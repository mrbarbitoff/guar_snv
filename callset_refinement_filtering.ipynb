{
 "cells": [
  {
   "cell_type": "code",
   "execution_count": 1,
   "id": "ordinary-raise",
   "metadata": {},
   "outputs": [
    {
     "name": "stderr",
     "output_type": "stream",
     "text": [
      "/home/barbitoff/.conda/envs/hail/lib/python3.6/site-packages/requests/__init__.py:91: RequestsDependencyWarning: urllib3 (1.26.4) or chardet (3.0.4) doesn't match a supported version!\n",
      "  RequestsDependencyWarning)\n"
     ]
    }
   ],
   "source": [
    "import pandas as pd\n",
    "import os , sys, time\n",
    "import numpy as np\n",
    "\n",
    "import hail as hl\n",
    "from bokeh.io import output_notebook, show, export_png\n",
    "import bokeh.models.layouts as bl"
   ]
  },
  {
   "cell_type": "code",
   "execution_count": 2,
   "id": "fitting-machinery",
   "metadata": {},
   "outputs": [],
   "source": [
    "os.environ['JAVA_HOME']='/usr/lib/jvm/java-1.8.0-openjdk-amd64'\n",
    "os.environ['PATH'] = os.environ['PATH'] + f':{os.environ[\"JAVA_HOME\"]}/bin'"
   ]
  },
  {
   "cell_type": "code",
   "execution_count": 3,
   "id": "familiar-agenda",
   "metadata": {
    "scrolled": true
   },
   "outputs": [
    {
     "name": "stderr",
     "output_type": "stream",
     "text": [
      "Running on Apache Spark version 2.4.1\n",
      "SparkUI available at http://217.148.215.30:4040\n",
      "Welcome to\n",
      "     __  __     <>__\n",
      "    / /_/ /__  __/ /\n",
      "   / __  / _ `/ / /\n",
      "  /_/ /_/\\_,_/_/_/   version 0.2.63-cb767a7507c8\n",
      "LOGGING: writing to /media/array/guar_proj/production_callset/hail-20210428-1540-0.2.63-cb767a7507c8.log\n"
     ]
    },
    {
     "data": {
      "text/html": [
       "\n",
       "    <div class=\"bk-root\">\n",
       "        <a href=\"https://bokeh.org\" target=\"_blank\" class=\"bk-logo bk-logo-small bk-logo-notebook\"></a>\n",
       "        <span id=\"1001\">Loading BokehJS ...</span>\n",
       "    </div>"
      ]
     },
     "metadata": {},
     "output_type": "display_data"
    },
    {
     "data": {
      "application/javascript": [
       "\n",
       "(function(root) {\n",
       "  function now() {\n",
       "    return new Date();\n",
       "  }\n",
       "\n",
       "  var force = true;\n",
       "\n",
       "  if (typeof root._bokeh_onload_callbacks === \"undefined\" || force === true) {\n",
       "    root._bokeh_onload_callbacks = [];\n",
       "    root._bokeh_is_loading = undefined;\n",
       "  }\n",
       "\n",
       "  var JS_MIME_TYPE = 'application/javascript';\n",
       "  var HTML_MIME_TYPE = 'text/html';\n",
       "  var EXEC_MIME_TYPE = 'application/vnd.bokehjs_exec.v0+json';\n",
       "  var CLASS_NAME = 'output_bokeh rendered_html';\n",
       "\n",
       "  /**\n",
       "   * Render data to the DOM node\n",
       "   */\n",
       "  function render(props, node) {\n",
       "    var script = document.createElement(\"script\");\n",
       "    node.appendChild(script);\n",
       "  }\n",
       "\n",
       "  /**\n",
       "   * Handle when an output is cleared or removed\n",
       "   */\n",
       "  function handleClearOutput(event, handle) {\n",
       "    var cell = handle.cell;\n",
       "\n",
       "    var id = cell.output_area._bokeh_element_id;\n",
       "    var server_id = cell.output_area._bokeh_server_id;\n",
       "    // Clean up Bokeh references\n",
       "    if (id != null && id in Bokeh.index) {\n",
       "      Bokeh.index[id].model.document.clear();\n",
       "      delete Bokeh.index[id];\n",
       "    }\n",
       "\n",
       "    if (server_id !== undefined) {\n",
       "      // Clean up Bokeh references\n",
       "      var cmd = \"from bokeh.io.state import curstate; print(curstate().uuid_to_server['\" + server_id + \"'].get_sessions()[0].document.roots[0]._id)\";\n",
       "      cell.notebook.kernel.execute(cmd, {\n",
       "        iopub: {\n",
       "          output: function(msg) {\n",
       "            var id = msg.content.text.trim();\n",
       "            if (id in Bokeh.index) {\n",
       "              Bokeh.index[id].model.document.clear();\n",
       "              delete Bokeh.index[id];\n",
       "            }\n",
       "          }\n",
       "        }\n",
       "      });\n",
       "      // Destroy server and session\n",
       "      var cmd = \"import bokeh.io.notebook as ion; ion.destroy_server('\" + server_id + \"')\";\n",
       "      cell.notebook.kernel.execute(cmd);\n",
       "    }\n",
       "  }\n",
       "\n",
       "  /**\n",
       "   * Handle when a new output is added\n",
       "   */\n",
       "  function handleAddOutput(event, handle) {\n",
       "    var output_area = handle.output_area;\n",
       "    var output = handle.output;\n",
       "\n",
       "    // limit handleAddOutput to display_data with EXEC_MIME_TYPE content only\n",
       "    if ((output.output_type != \"display_data\") || (!output.data.hasOwnProperty(EXEC_MIME_TYPE))) {\n",
       "      return\n",
       "    }\n",
       "\n",
       "    var toinsert = output_area.element.find(\".\" + CLASS_NAME.split(' ')[0]);\n",
       "\n",
       "    if (output.metadata[EXEC_MIME_TYPE][\"id\"] !== undefined) {\n",
       "      toinsert[toinsert.length - 1].firstChild.textContent = output.data[JS_MIME_TYPE];\n",
       "      // store reference to embed id on output_area\n",
       "      output_area._bokeh_element_id = output.metadata[EXEC_MIME_TYPE][\"id\"];\n",
       "    }\n",
       "    if (output.metadata[EXEC_MIME_TYPE][\"server_id\"] !== undefined) {\n",
       "      var bk_div = document.createElement(\"div\");\n",
       "      bk_div.innerHTML = output.data[HTML_MIME_TYPE];\n",
       "      var script_attrs = bk_div.children[0].attributes;\n",
       "      for (var i = 0; i < script_attrs.length; i++) {\n",
       "        toinsert[toinsert.length - 1].firstChild.setAttribute(script_attrs[i].name, script_attrs[i].value);\n",
       "      }\n",
       "      // store reference to server id on output_area\n",
       "      output_area._bokeh_server_id = output.metadata[EXEC_MIME_TYPE][\"server_id\"];\n",
       "    }\n",
       "  }\n",
       "\n",
       "  function register_renderer(events, OutputArea) {\n",
       "\n",
       "    function append_mime(data, metadata, element) {\n",
       "      // create a DOM node to render to\n",
       "      var toinsert = this.create_output_subarea(\n",
       "        metadata,\n",
       "        CLASS_NAME,\n",
       "        EXEC_MIME_TYPE\n",
       "      );\n",
       "      this.keyboard_manager.register_events(toinsert);\n",
       "      // Render to node\n",
       "      var props = {data: data, metadata: metadata[EXEC_MIME_TYPE]};\n",
       "      render(props, toinsert[toinsert.length - 1]);\n",
       "      element.append(toinsert);\n",
       "      return toinsert\n",
       "    }\n",
       "\n",
       "    /* Handle when an output is cleared or removed */\n",
       "    events.on('clear_output.CodeCell', handleClearOutput);\n",
       "    events.on('delete.Cell', handleClearOutput);\n",
       "\n",
       "    /* Handle when a new output is added */\n",
       "    events.on('output_added.OutputArea', handleAddOutput);\n",
       "\n",
       "    /**\n",
       "     * Register the mime type and append_mime function with output_area\n",
       "     */\n",
       "    OutputArea.prototype.register_mime_type(EXEC_MIME_TYPE, append_mime, {\n",
       "      /* Is output safe? */\n",
       "      safe: true,\n",
       "      /* Index of renderer in `output_area.display_order` */\n",
       "      index: 0\n",
       "    });\n",
       "  }\n",
       "\n",
       "  // register the mime type if in Jupyter Notebook environment and previously unregistered\n",
       "  if (root.Jupyter !== undefined) {\n",
       "    var events = require('base/js/events');\n",
       "    var OutputArea = require('notebook/js/outputarea').OutputArea;\n",
       "\n",
       "    if (OutputArea.prototype.mime_types().indexOf(EXEC_MIME_TYPE) == -1) {\n",
       "      register_renderer(events, OutputArea);\n",
       "    }\n",
       "  }\n",
       "\n",
       "  \n",
       "  if (typeof (root._bokeh_timeout) === \"undefined\" || force === true) {\n",
       "    root._bokeh_timeout = Date.now() + 5000;\n",
       "    root._bokeh_failed_load = false;\n",
       "  }\n",
       "\n",
       "  var NB_LOAD_WARNING = {'data': {'text/html':\n",
       "     \"<div style='background-color: #fdd'>\\n\"+\n",
       "     \"<p>\\n\"+\n",
       "     \"BokehJS does not appear to have successfully loaded. If loading BokehJS from CDN, this \\n\"+\n",
       "     \"may be due to a slow or bad network connection. Possible fixes:\\n\"+\n",
       "     \"</p>\\n\"+\n",
       "     \"<ul>\\n\"+\n",
       "     \"<li>re-rerun `output_notebook()` to attempt to load from CDN again, or</li>\\n\"+\n",
       "     \"<li>use INLINE resources instead, as so:</li>\\n\"+\n",
       "     \"</ul>\\n\"+\n",
       "     \"<code>\\n\"+\n",
       "     \"from bokeh.resources import INLINE\\n\"+\n",
       "     \"output_notebook(resources=INLINE)\\n\"+\n",
       "     \"</code>\\n\"+\n",
       "     \"</div>\"}};\n",
       "\n",
       "  function display_loaded() {\n",
       "    var el = document.getElementById(\"1001\");\n",
       "    if (el != null) {\n",
       "      el.textContent = \"BokehJS is loading...\";\n",
       "    }\n",
       "    if (root.Bokeh !== undefined) {\n",
       "      if (el != null) {\n",
       "        el.textContent = \"BokehJS \" + root.Bokeh.version + \" successfully loaded.\";\n",
       "      }\n",
       "    } else if (Date.now() < root._bokeh_timeout) {\n",
       "      setTimeout(display_loaded, 100)\n",
       "    }\n",
       "  }\n",
       "\n",
       "\n",
       "  function run_callbacks() {\n",
       "    try {\n",
       "      root._bokeh_onload_callbacks.forEach(function(callback) {\n",
       "        if (callback != null)\n",
       "          callback();\n",
       "      });\n",
       "    } finally {\n",
       "      delete root._bokeh_onload_callbacks\n",
       "    }\n",
       "    console.debug(\"Bokeh: all callbacks have finished\");\n",
       "  }\n",
       "\n",
       "  function load_libs(css_urls, js_urls, callback) {\n",
       "    if (css_urls == null) css_urls = [];\n",
       "    if (js_urls == null) js_urls = [];\n",
       "\n",
       "    root._bokeh_onload_callbacks.push(callback);\n",
       "    if (root._bokeh_is_loading > 0) {\n",
       "      console.debug(\"Bokeh: BokehJS is being loaded, scheduling callback at\", now());\n",
       "      return null;\n",
       "    }\n",
       "    if (js_urls == null || js_urls.length === 0) {\n",
       "      run_callbacks();\n",
       "      return null;\n",
       "    }\n",
       "    console.debug(\"Bokeh: BokehJS not loaded, scheduling load and callback at\", now());\n",
       "    root._bokeh_is_loading = css_urls.length + js_urls.length;\n",
       "\n",
       "    function on_load() {\n",
       "      root._bokeh_is_loading--;\n",
       "      if (root._bokeh_is_loading === 0) {\n",
       "        console.debug(\"Bokeh: all BokehJS libraries/stylesheets loaded\");\n",
       "        run_callbacks()\n",
       "      }\n",
       "    }\n",
       "\n",
       "    function on_error() {\n",
       "      console.error(\"failed to load \" + url);\n",
       "    }\n",
       "\n",
       "    for (var i = 0; i < css_urls.length; i++) {\n",
       "      var url = css_urls[i];\n",
       "      const element = document.createElement(\"link\");\n",
       "      element.onload = on_load;\n",
       "      element.onerror = on_error;\n",
       "      element.rel = \"stylesheet\";\n",
       "      element.type = \"text/css\";\n",
       "      element.href = url;\n",
       "      console.debug(\"Bokeh: injecting link tag for BokehJS stylesheet: \", url);\n",
       "      document.body.appendChild(element);\n",
       "    }\n",
       "\n",
       "    for (var i = 0; i < js_urls.length; i++) {\n",
       "      var url = js_urls[i];\n",
       "      var element = document.createElement('script');\n",
       "      element.onload = on_load;\n",
       "      element.onerror = on_error;\n",
       "      element.async = false;\n",
       "      element.src = url;\n",
       "      console.debug(\"Bokeh: injecting script tag for BokehJS library: \", url);\n",
       "      document.head.appendChild(element);\n",
       "    }\n",
       "  };var element = document.getElementById(\"1001\");\n",
       "  if (element == null) {\n",
       "    console.error(\"Bokeh: ERROR: autoload.js configured with elementid '1001' but no matching script tag was found. \")\n",
       "    return false;\n",
       "  }\n",
       "\n",
       "  function inject_raw_css(css) {\n",
       "    const element = document.createElement(\"style\");\n",
       "    element.appendChild(document.createTextNode(css));\n",
       "    document.body.appendChild(element);\n",
       "  }\n",
       "\n",
       "  \n",
       "  var js_urls = [\"https://cdn.pydata.org/bokeh/release/bokeh-1.4.0.min.js\", \"https://cdn.pydata.org/bokeh/release/bokeh-widgets-1.4.0.min.js\", \"https://cdn.pydata.org/bokeh/release/bokeh-tables-1.4.0.min.js\", \"https://cdn.pydata.org/bokeh/release/bokeh-gl-1.4.0.min.js\"];\n",
       "  var css_urls = [];\n",
       "  \n",
       "\n",
       "  var inline_js = [\n",
       "    function(Bokeh) {\n",
       "      Bokeh.set_log_level(\"info\");\n",
       "    },\n",
       "    function(Bokeh) {\n",
       "    \n",
       "    \n",
       "    }\n",
       "  ];\n",
       "\n",
       "  function run_inline_js() {\n",
       "    \n",
       "    if (root.Bokeh !== undefined || force === true) {\n",
       "      \n",
       "    for (var i = 0; i < inline_js.length; i++) {\n",
       "      inline_js[i].call(root, root.Bokeh);\n",
       "    }\n",
       "    if (force === true) {\n",
       "        display_loaded();\n",
       "      }} else if (Date.now() < root._bokeh_timeout) {\n",
       "      setTimeout(run_inline_js, 100);\n",
       "    } else if (!root._bokeh_failed_load) {\n",
       "      console.log(\"Bokeh: BokehJS failed to load within specified timeout.\");\n",
       "      root._bokeh_failed_load = true;\n",
       "    } else if (force !== true) {\n",
       "      var cell = $(document.getElementById(\"1001\")).parents('.cell').data().cell;\n",
       "      cell.output_area.append_execute_result(NB_LOAD_WARNING)\n",
       "    }\n",
       "\n",
       "  }\n",
       "\n",
       "  if (root._bokeh_is_loading === 0) {\n",
       "    console.debug(\"Bokeh: BokehJS loaded, going straight to plotting\");\n",
       "    run_inline_js();\n",
       "  } else {\n",
       "    load_libs(css_urls, js_urls, function() {\n",
       "      console.debug(\"Bokeh: BokehJS plotting callback run at\", now());\n",
       "      run_inline_js();\n",
       "    });\n",
       "  }\n",
       "}(window));"
      ],
      "application/vnd.bokehjs_load.v0+json": "\n(function(root) {\n  function now() {\n    return new Date();\n  }\n\n  var force = true;\n\n  if (typeof root._bokeh_onload_callbacks === \"undefined\" || force === true) {\n    root._bokeh_onload_callbacks = [];\n    root._bokeh_is_loading = undefined;\n  }\n\n  \n\n  \n  if (typeof (root._bokeh_timeout) === \"undefined\" || force === true) {\n    root._bokeh_timeout = Date.now() + 5000;\n    root._bokeh_failed_load = false;\n  }\n\n  var NB_LOAD_WARNING = {'data': {'text/html':\n     \"<div style='background-color: #fdd'>\\n\"+\n     \"<p>\\n\"+\n     \"BokehJS does not appear to have successfully loaded. If loading BokehJS from CDN, this \\n\"+\n     \"may be due to a slow or bad network connection. Possible fixes:\\n\"+\n     \"</p>\\n\"+\n     \"<ul>\\n\"+\n     \"<li>re-rerun `output_notebook()` to attempt to load from CDN again, or</li>\\n\"+\n     \"<li>use INLINE resources instead, as so:</li>\\n\"+\n     \"</ul>\\n\"+\n     \"<code>\\n\"+\n     \"from bokeh.resources import INLINE\\n\"+\n     \"output_notebook(resources=INLINE)\\n\"+\n     \"</code>\\n\"+\n     \"</div>\"}};\n\n  function display_loaded() {\n    var el = document.getElementById(\"1001\");\n    if (el != null) {\n      el.textContent = \"BokehJS is loading...\";\n    }\n    if (root.Bokeh !== undefined) {\n      if (el != null) {\n        el.textContent = \"BokehJS \" + root.Bokeh.version + \" successfully loaded.\";\n      }\n    } else if (Date.now() < root._bokeh_timeout) {\n      setTimeout(display_loaded, 100)\n    }\n  }\n\n\n  function run_callbacks() {\n    try {\n      root._bokeh_onload_callbacks.forEach(function(callback) {\n        if (callback != null)\n          callback();\n      });\n    } finally {\n      delete root._bokeh_onload_callbacks\n    }\n    console.debug(\"Bokeh: all callbacks have finished\");\n  }\n\n  function load_libs(css_urls, js_urls, callback) {\n    if (css_urls == null) css_urls = [];\n    if (js_urls == null) js_urls = [];\n\n    root._bokeh_onload_callbacks.push(callback);\n    if (root._bokeh_is_loading > 0) {\n      console.debug(\"Bokeh: BokehJS is being loaded, scheduling callback at\", now());\n      return null;\n    }\n    if (js_urls == null || js_urls.length === 0) {\n      run_callbacks();\n      return null;\n    }\n    console.debug(\"Bokeh: BokehJS not loaded, scheduling load and callback at\", now());\n    root._bokeh_is_loading = css_urls.length + js_urls.length;\n\n    function on_load() {\n      root._bokeh_is_loading--;\n      if (root._bokeh_is_loading === 0) {\n        console.debug(\"Bokeh: all BokehJS libraries/stylesheets loaded\");\n        run_callbacks()\n      }\n    }\n\n    function on_error() {\n      console.error(\"failed to load \" + url);\n    }\n\n    for (var i = 0; i < css_urls.length; i++) {\n      var url = css_urls[i];\n      const element = document.createElement(\"link\");\n      element.onload = on_load;\n      element.onerror = on_error;\n      element.rel = \"stylesheet\";\n      element.type = \"text/css\";\n      element.href = url;\n      console.debug(\"Bokeh: injecting link tag for BokehJS stylesheet: \", url);\n      document.body.appendChild(element);\n    }\n\n    for (var i = 0; i < js_urls.length; i++) {\n      var url = js_urls[i];\n      var element = document.createElement('script');\n      element.onload = on_load;\n      element.onerror = on_error;\n      element.async = false;\n      element.src = url;\n      console.debug(\"Bokeh: injecting script tag for BokehJS library: \", url);\n      document.head.appendChild(element);\n    }\n  };var element = document.getElementById(\"1001\");\n  if (element == null) {\n    console.error(\"Bokeh: ERROR: autoload.js configured with elementid '1001' but no matching script tag was found. \")\n    return false;\n  }\n\n  function inject_raw_css(css) {\n    const element = document.createElement(\"style\");\n    element.appendChild(document.createTextNode(css));\n    document.body.appendChild(element);\n  }\n\n  \n  var js_urls = [\"https://cdn.pydata.org/bokeh/release/bokeh-1.4.0.min.js\", \"https://cdn.pydata.org/bokeh/release/bokeh-widgets-1.4.0.min.js\", \"https://cdn.pydata.org/bokeh/release/bokeh-tables-1.4.0.min.js\", \"https://cdn.pydata.org/bokeh/release/bokeh-gl-1.4.0.min.js\"];\n  var css_urls = [];\n  \n\n  var inline_js = [\n    function(Bokeh) {\n      Bokeh.set_log_level(\"info\");\n    },\n    function(Bokeh) {\n    \n    \n    }\n  ];\n\n  function run_inline_js() {\n    \n    if (root.Bokeh !== undefined || force === true) {\n      \n    for (var i = 0; i < inline_js.length; i++) {\n      inline_js[i].call(root, root.Bokeh);\n    }\n    if (force === true) {\n        display_loaded();\n      }} else if (Date.now() < root._bokeh_timeout) {\n      setTimeout(run_inline_js, 100);\n    } else if (!root._bokeh_failed_load) {\n      console.log(\"Bokeh: BokehJS failed to load within specified timeout.\");\n      root._bokeh_failed_load = true;\n    } else if (force !== true) {\n      var cell = $(document.getElementById(\"1001\")).parents('.cell').data().cell;\n      cell.output_area.append_execute_result(NB_LOAD_WARNING)\n    }\n\n  }\n\n  if (root._bokeh_is_loading === 0) {\n    console.debug(\"Bokeh: BokehJS loaded, going straight to plotting\");\n    run_inline_js();\n  } else {\n    load_libs(css_urls, js_urls, function() {\n      console.debug(\"Bokeh: BokehJS plotting callback run at\", now());\n      run_inline_js();\n    });\n  }\n}(window));"
     },
     "metadata": {},
     "output_type": "display_data"
    }
   ],
   "source": [
    "hl.init()\n",
    "output_notebook()"
   ]
  },
  {
   "cell_type": "code",
   "execution_count": 4,
   "id": "decreased-incentive",
   "metadata": {},
   "outputs": [],
   "source": [
    "ref_g = hl.genetics.ReferenceGenome.from_fasta_file(\"GUAR_masurca\", \n",
    "                   \"/media/array/guar_proj/reference_masurca/assembly_guar_Masurca1.fasta\", \n",
    "                   \"/media/array/guar_proj/reference_masurca/assembly_guar_Masurca1.fasta.fai\")"
   ]
  },
  {
   "cell_type": "code",
   "execution_count": 5,
   "id": "palestinian-sympathy",
   "metadata": {
    "scrolled": false
   },
   "outputs": [
    {
     "name": "stdout",
     "output_type": "stream",
     "text": [
      "----------------------------------------\n",
      "Global fields:\n",
      "    None\n",
      "----------------------------------------\n",
      "Column fields:\n",
      "    's': str\n",
      "----------------------------------------\n",
      "Row fields:\n",
      "    'locus': locus<GUAR_masurca>\n",
      "    'alleles': array<str>\n",
      "    'rsid': str\n",
      "    'qual': float64\n",
      "    'filters': set<str>\n",
      "    'info': struct {\n",
      "        AC: array<int32>, \n",
      "        AF: array<float64>, \n",
      "        AN: int32, \n",
      "        BaseQRankSum: float64, \n",
      "        DP: int32, \n",
      "        DS: bool, \n",
      "        END: int32, \n",
      "        ExcessHet: float64, \n",
      "        FS: float64, \n",
      "        InbreedingCoeff: float64, \n",
      "        MLEAC: array<int32>, \n",
      "        MLEAF: array<float64>, \n",
      "        MQ: float64, \n",
      "        MQRankSum: float64, \n",
      "        QD: float64, \n",
      "        RAW_MQandDP: array<int32>, \n",
      "        ReadPosRankSum: float64, \n",
      "        SOR: float64, \n",
      "        NGSEP_NHET: array<int32>, \n",
      "        NGSEP_NALT: array<int32>, \n",
      "        NGSEP_AF: array<float64>, \n",
      "        TASSEL_NHET: array<int32>, \n",
      "        TASSEL_NALT: array<int32>, \n",
      "        TASSEL_AF: array<float64>\n",
      "    }\n",
      "----------------------------------------\n",
      "Entry fields:\n",
      "    'AD': array<int32>\n",
      "    'DP': int32\n",
      "    'GQ': int32\n",
      "    'GT': call\n",
      "    'MIN_DP': int32\n",
      "    'PGT': call\n",
      "    'PID': str\n",
      "    'PL': array<int32>\n",
      "    'PS': int32\n",
      "    'RGQ': int32\n",
      "    'SB': array<int32>\n",
      "----------------------------------------\n",
      "Column key: ['s']\n",
      "Row key: ['locus', 'alleles']\n",
      "----------------------------------------\n"
     ]
    }
   ],
   "source": [
    "mt = hl.import_vcf('/media/array/guar_proj/production_callset/GATK_NGSEP_TASSEL_common.vcf', reference_genome=ref_g)\n",
    "mt.describe()"
   ]
  },
  {
   "cell_type": "code",
   "execution_count": 6,
   "id": "renewable-strap",
   "metadata": {},
   "outputs": [
    {
     "name": "stderr",
     "output_type": "stream",
     "text": [
      "2021-04-28 15:40:44 Hail: INFO: Coerced sorted dataset\n"
     ]
    },
    {
     "data": {
      "text/plain": [
       "(21311, 192)"
      ]
     },
     "execution_count": 6,
     "metadata": {},
     "output_type": "execute_result"
    }
   ],
   "source": [
    "mt.count()"
   ]
  },
  {
   "cell_type": "code",
   "execution_count": 7,
   "id": "pleasant-chosen",
   "metadata": {},
   "outputs": [],
   "source": [
    "mt = hl.sample_qc(mt)\n",
    "mt = hl.variant_qc(mt)"
   ]
  },
  {
   "cell_type": "code",
   "execution_count": 8,
   "id": "undefined-guitar",
   "metadata": {},
   "outputs": [
    {
     "name": "stdout",
     "output_type": "stream",
     "text": [
      "--------------------------------------------------------\n",
      "Type:\n",
      "        struct {\n",
      "        dp_stats: struct {\n",
      "            mean: float64, \n",
      "            stdev: float64, \n",
      "            min: float64, \n",
      "            max: float64\n",
      "        }, \n",
      "        gq_stats: struct {\n",
      "            mean: float64, \n",
      "            stdev: float64, \n",
      "            min: float64, \n",
      "            max: float64\n",
      "        }, \n",
      "        AC: array<int32>, \n",
      "        AF: array<float64>, \n",
      "        AN: int32, \n",
      "        homozygote_count: array<int32>, \n",
      "        call_rate: float64, \n",
      "        n_called: int64, \n",
      "        n_not_called: int64, \n",
      "        n_filtered: int64, \n",
      "        n_het: int64, \n",
      "        n_non_ref: int64, \n",
      "        het_freq_hwe: float64, \n",
      "        p_value_hwe: float64\n",
      "    }\n",
      "--------------------------------------------------------\n",
      "Source:\n",
      "    <hail.matrixtable.MatrixTable object at 0x7fbb0cd18438>\n",
      "Index:\n",
      "    ['row']\n",
      "--------------------------------------------------------\n"
     ]
    }
   ],
   "source": [
    "mt.variant_qc.describe()"
   ]
  },
  {
   "cell_type": "code",
   "execution_count": 9,
   "id": "heated-sense",
   "metadata": {},
   "outputs": [
    {
     "name": "stderr",
     "output_type": "stream",
     "text": [
      "2021-04-28 15:40:49 Hail: INFO: Coerced sorted dataset\n",
      "2021-04-28 15:40:56 Hail: INFO: Coerced sorted dataset\n"
     ]
    },
    {
     "data": {
      "text/html": [
       "\n",
       "\n",
       "\n",
       "\n",
       "\n",
       "\n",
       "  <div class=\"bk-root\" id=\"d996455c-eda2-4867-863a-fe5b1899d525\" data-root-id=\"1002\"></div>\n"
      ]
     },
     "metadata": {},
     "output_type": "display_data"
    },
    {
     "data": {
      "application/javascript": [
       "(function(root) {\n",
       "  function embed_document(root) {\n",
       "    \n",
       "  var docs_json = {\"d88a82f0-69e3-450d-b565-85811778c166\":{\"roots\":{\"references\":[{\"attributes\":{\"background_fill_color\":{\"value\":\"#EEEEEE\"},\"below\":[{\"id\":\"1012\",\"type\":\"LinearAxis\"}],\"center\":[{\"id\":\"1016\",\"type\":\"Grid\"},{\"id\":\"1021\",\"type\":\"Grid\"},{\"id\":\"1046\",\"type\":\"Legend\"}],\"left\":[{\"id\":\"1017\",\"type\":\"LinearAxis\"}],\"renderers\":[{\"id\":\"1038\",\"type\":\"GlyphRenderer\"}],\"title\":null,\"toolbar\":{\"id\":\"1028\",\"type\":\"Toolbar\"},\"x_range\":{\"id\":\"1004\",\"type\":\"Range1d\"},\"x_scale\":{\"id\":\"1008\",\"type\":\"LinearScale\"},\"y_range\":{\"id\":\"1006\",\"type\":\"DataRange1d\"},\"y_scale\":{\"id\":\"1010\",\"type\":\"LinearScale\"}},\"id\":\"1002\",\"subtype\":\"Figure\",\"type\":\"Plot\"},{\"attributes\":{},\"id\":\"1008\",\"type\":\"LinearScale\"},{\"attributes\":{\"items\":[{\"id\":\"1047\",\"type\":\"LegendItem\"}]},\"id\":\"1046\",\"type\":\"Legend\"},{\"attributes\":{\"bottom_units\":\"screen\",\"fill_alpha\":{\"value\":0.5},\"fill_color\":{\"value\":\"lightgrey\"},\"left_units\":\"screen\",\"level\":\"overlay\",\"line_alpha\":{\"value\":1.0},\"line_color\":{\"value\":\"black\"},\"line_dash\":[4,4],\"line_width\":{\"value\":2},\"render_mode\":\"css\",\"right_units\":\"screen\",\"top_units\":\"screen\"},\"id\":\"1045\",\"type\":\"BoxAnnotation\"},{\"attributes\":{},\"id\":\"1055\",\"type\":\"UnionRenderers\"},{\"attributes\":{\"label\":{\"value\":\"\"},\"renderers\":[{\"id\":\"1038\",\"type\":\"GlyphRenderer\"}]},\"id\":\"1047\",\"type\":\"LegendItem\"},{\"attributes\":{\"callback\":null,\"data\":{\"left\":[0.005208333333333333,0.025104166666666664,0.045,0.06489583333333332,0.08479166666666665,0.10468749999999999,0.12458333333333331,0.14447916666666666,0.164375,0.18427083333333333,0.20416666666666666,0.2240625,0.2439583333333333,0.2638541666666666,0.28374999999999995,0.3036458333333333,0.3235416666666666,0.34343749999999995,0.3633333333333333,0.3832291666666666,0.40312499999999996,0.4230208333333333,0.4429166666666666,0.46281249999999996,0.48270833333333324,0.5026041666666666,0.5225,0.5423958333333333,0.5622916666666666,0.5821875,0.6020833333333333,0.6219791666666666,0.641875,0.6617708333333333,0.6816666666666666,0.7015625,0.7214583333333333,0.7413541666666666,0.76125,0.7811458333333333,0.8010416666666667,0.8209375,0.8408333333333333,0.8607291666666667,0.880625,0.9005208333333333,0.9204166666666667,0.9403125,0.9602083333333332,0.9801041666666666],\"right\":[0.025104166666666664,0.045,0.06489583333333332,0.08479166666666665,0.10468749999999999,0.12458333333333331,0.14447916666666666,0.164375,0.18427083333333333,0.20416666666666666,0.2240625,0.2439583333333333,0.2638541666666666,0.28374999999999995,0.3036458333333333,0.3235416666666666,0.34343749999999995,0.3633333333333333,0.3832291666666666,0.40312499999999996,0.4230208333333333,0.4429166666666666,0.46281249999999996,0.48270833333333324,0.5026041666666666,0.5225,0.5423958333333333,0.5622916666666666,0.5821875,0.6020833333333333,0.6219791666666666,0.641875,0.6617708333333333,0.6816666666666666,0.7015625,0.7214583333333333,0.7413541666666666,0.76125,0.7811458333333333,0.8010416666666667,0.8209375,0.8408333333333333,0.8607291666666667,0.880625,0.9005208333333333,0.9204166666666667,0.9403125,0.9602083333333332,0.9801041666666666,0.9999999999999999],\"top\":[326,172,115,96,105,64,105,97,70,71,96,88,89,93,88,93,73,120,89,100,107,94,81,82,110,131,125,84,132,114,138,118,134,100,144,140,183,185,136,211,234,266,295,378,305,548,675,1058,1966,10887]},\"selected\":{\"id\":\"1054\",\"type\":\"Selection\"},\"selection_policy\":{\"id\":\"1055\",\"type\":\"UnionRenderers\"}},\"id\":\"1035\",\"type\":\"ColumnDataSource\"},{\"attributes\":{},\"id\":\"1042\",\"type\":\"BasicTickFormatter\"},{\"attributes\":{\"bottom\":{\"value\":0},\"fill_color\":{\"value\":\"#1f77b4\"},\"left\":{\"field\":\"left\"},\"right\":{\"field\":\"right\"},\"top\":{\"field\":\"top\"}},\"id\":\"1036\",\"type\":\"Quad\"},{\"attributes\":{\"axis_label\":\"Frequency\",\"formatter\":{\"id\":\"1044\",\"type\":\"BasicTickFormatter\"},\"ticker\":{\"id\":\"1018\",\"type\":\"BasicTicker\"}},\"id\":\"1017\",\"type\":\"LinearAxis\"},{\"attributes\":{},\"id\":\"1010\",\"type\":\"LinearScale\"},{\"attributes\":{\"callback\":null,\"end\":1.0497395833333332,\"start\":-0.044531249999999994},\"id\":\"1004\",\"type\":\"Range1d\"},{\"attributes\":{\"callback\":null},\"id\":\"1006\",\"type\":\"DataRange1d\"},{\"attributes\":{\"bottom\":{\"value\":0},\"fill_alpha\":{\"value\":0.1},\"fill_color\":{\"value\":\"#1f77b4\"},\"left\":{\"field\":\"left\"},\"line_alpha\":{\"value\":0.1},\"line_color\":{\"value\":\"#1f77b4\"},\"right\":{\"field\":\"right\"},\"top\":{\"field\":\"top\"}},\"id\":\"1037\",\"type\":\"Quad\"},{\"attributes\":{},\"id\":\"1026\",\"type\":\"ResetTool\"},{\"attributes\":{},\"id\":\"1027\",\"type\":\"HelpTool\"},{\"attributes\":{\"ticker\":{\"id\":\"1013\",\"type\":\"BasicTicker\"}},\"id\":\"1016\",\"type\":\"Grid\"},{\"attributes\":{\"data_source\":{\"id\":\"1035\",\"type\":\"ColumnDataSource\"},\"glyph\":{\"id\":\"1036\",\"type\":\"Quad\"},\"hover_glyph\":null,\"muted_glyph\":null,\"nonselection_glyph\":{\"id\":\"1037\",\"type\":\"Quad\"},\"selection_glyph\":null,\"view\":{\"id\":\"1039\",\"type\":\"CDSView\"}},\"id\":\"1038\",\"type\":\"GlyphRenderer\"},{\"attributes\":{},\"id\":\"1018\",\"type\":\"BasicTicker\"},{\"attributes\":{\"formatter\":{\"id\":\"1042\",\"type\":\"BasicTickFormatter\"},\"ticker\":{\"id\":\"1013\",\"type\":\"BasicTicker\"}},\"id\":\"1012\",\"type\":\"LinearAxis\"},{\"attributes\":{},\"id\":\"1022\",\"type\":\"PanTool\"},{\"attributes\":{},\"id\":\"1054\",\"type\":\"Selection\"},{\"attributes\":{},\"id\":\"1023\",\"type\":\"WheelZoomTool\"},{\"attributes\":{\"overlay\":{\"id\":\"1045\",\"type\":\"BoxAnnotation\"}},\"id\":\"1024\",\"type\":\"BoxZoomTool\"},{\"attributes\":{\"source\":{\"id\":\"1035\",\"type\":\"ColumnDataSource\"}},\"id\":\"1039\",\"type\":\"CDSView\"},{\"attributes\":{},\"id\":\"1013\",\"type\":\"BasicTicker\"},{\"attributes\":{},\"id\":\"1044\",\"type\":\"BasicTickFormatter\"},{\"attributes\":{},\"id\":\"1025\",\"type\":\"SaveTool\"},{\"attributes\":{\"active_drag\":\"auto\",\"active_inspect\":\"auto\",\"active_multi\":null,\"active_scroll\":\"auto\",\"active_tap\":\"auto\",\"tools\":[{\"id\":\"1022\",\"type\":\"PanTool\"},{\"id\":\"1023\",\"type\":\"WheelZoomTool\"},{\"id\":\"1024\",\"type\":\"BoxZoomTool\"},{\"id\":\"1025\",\"type\":\"SaveTool\"},{\"id\":\"1026\",\"type\":\"ResetTool\"},{\"id\":\"1027\",\"type\":\"HelpTool\"}]},\"id\":\"1028\",\"type\":\"Toolbar\"},{\"attributes\":{\"dimension\":1,\"ticker\":{\"id\":\"1018\",\"type\":\"BasicTicker\"}},\"id\":\"1021\",\"type\":\"Grid\"}],\"root_ids\":[\"1002\"]},\"title\":\"Bokeh Application\",\"version\":\"1.4.0\"}};\n",
       "  var render_items = [{\"docid\":\"d88a82f0-69e3-450d-b565-85811778c166\",\"roots\":{\"1002\":\"d996455c-eda2-4867-863a-fe5b1899d525\"}}];\n",
       "  root.Bokeh.embed.embed_items_notebook(docs_json, render_items);\n",
       "\n",
       "  }\n",
       "  if (root.Bokeh !== undefined) {\n",
       "    embed_document(root);\n",
       "  } else {\n",
       "    var attempts = 0;\n",
       "    var timer = setInterval(function(root) {\n",
       "      if (root.Bokeh !== undefined) {\n",
       "        clearInterval(timer);\n",
       "        embed_document(root);\n",
       "      } else {\n",
       "        attempts++;\n",
       "        if (attempts > 100) {\n",
       "          clearInterval(timer);\n",
       "          console.log(\"Bokeh: ERROR: Unable to run BokehJS code because BokehJS library is missing\");\n",
       "        }\n",
       "      }\n",
       "    }, 10, root)\n",
       "  }\n",
       "})(window);"
      ],
      "application/vnd.bokehjs_exec.v0+json": ""
     },
     "metadata": {
      "application/vnd.bokehjs_exec.v0+json": {
       "id": "1002"
      }
     },
     "output_type": "display_data"
    }
   ],
   "source": [
    "p = hl.plot.histogram(mt.variant_qc.call_rate)\n",
    "show(p)"
   ]
  },
  {
   "cell_type": "code",
   "execution_count": 10,
   "id": "handmade-shower",
   "metadata": {},
   "outputs": [
    {
     "name": "stderr",
     "output_type": "stream",
     "text": [
      "2021-04-28 15:41:04 Hail: INFO: Coerced sorted dataset\n",
      "2021-04-28 15:41:10 Hail: INFO: Coerced sorted dataset\n"
     ]
    },
    {
     "data": {
      "text/html": [
       "\n",
       "\n",
       "\n",
       "\n",
       "\n",
       "\n",
       "  <div class=\"bk-root\" id=\"8676838a-3fb3-4c14-9b15-e84f5c294cec\" data-root-id=\"1104\"></div>\n"
      ]
     },
     "metadata": {},
     "output_type": "display_data"
    },
    {
     "data": {
      "application/javascript": [
       "(function(root) {\n",
       "  function embed_document(root) {\n",
       "    \n",
       "  var docs_json = {\"c3fa76a4-39c8-494b-b3b2-161a4b0f7557\":{\"roots\":{\"references\":[{\"attributes\":{\"background_fill_color\":{\"value\":\"#EEEEEE\"},\"below\":[{\"id\":\"1114\",\"type\":\"LinearAxis\"}],\"center\":[{\"id\":\"1118\",\"type\":\"Grid\"},{\"id\":\"1123\",\"type\":\"Grid\"},{\"id\":\"1148\",\"type\":\"Legend\"}],\"left\":[{\"id\":\"1119\",\"type\":\"LinearAxis\"}],\"renderers\":[{\"id\":\"1140\",\"type\":\"GlyphRenderer\"}],\"title\":null,\"toolbar\":{\"id\":\"1130\",\"type\":\"Toolbar\"},\"x_range\":{\"id\":\"1106\",\"type\":\"Range1d\"},\"x_scale\":{\"id\":\"1110\",\"type\":\"LinearScale\"},\"y_range\":{\"id\":\"1108\",\"type\":\"DataRange1d\"},\"y_scale\":{\"id\":\"1112\",\"type\":\"LinearScale\"}},\"id\":\"1104\",\"subtype\":\"Figure\",\"type\":\"Plot\"},{\"attributes\":{},\"id\":\"1165\",\"type\":\"UnionRenderers\"},{\"attributes\":{\"dimension\":1,\"ticker\":{\"id\":\"1120\",\"type\":\"BasicTicker\"}},\"id\":\"1123\",\"type\":\"Grid\"},{\"attributes\":{},\"id\":\"1125\",\"type\":\"WheelZoomTool\"},{\"attributes\":{\"active_drag\":\"auto\",\"active_inspect\":\"auto\",\"active_multi\":null,\"active_scroll\":\"auto\",\"active_tap\":\"auto\",\"tools\":[{\"id\":\"1124\",\"type\":\"PanTool\"},{\"id\":\"1125\",\"type\":\"WheelZoomTool\"},{\"id\":\"1126\",\"type\":\"BoxZoomTool\"},{\"id\":\"1127\",\"type\":\"SaveTool\"},{\"id\":\"1128\",\"type\":\"ResetTool\"},{\"id\":\"1129\",\"type\":\"HelpTool\"}]},\"id\":\"1130\",\"type\":\"Toolbar\"},{\"attributes\":{},\"id\":\"1124\",\"type\":\"PanTool\"},{\"attributes\":{\"label\":{\"value\":\"\"},\"renderers\":[{\"id\":\"1140\",\"type\":\"GlyphRenderer\"}]},\"id\":\"1149\",\"type\":\"LegendItem\"},{\"attributes\":{},\"id\":\"1146\",\"type\":\"BasicTickFormatter\"},{\"attributes\":{\"bottom\":{\"value\":0},\"fill_alpha\":{\"value\":0.1},\"fill_color\":{\"value\":\"#1f77b4\"},\"left\":{\"field\":\"left\"},\"line_alpha\":{\"value\":0.1},\"line_color\":{\"value\":\"#1f77b4\"},\"right\":{\"field\":\"right\"},\"top\":{\"field\":\"top\"}},\"id\":\"1139\",\"type\":\"Quad\"},{\"attributes\":{\"callback\":null},\"id\":\"1108\",\"type\":\"DataRange1d\"},{\"attributes\":{},\"id\":\"1115\",\"type\":\"BasicTicker\"},{\"attributes\":{\"bottom\":{\"value\":0},\"fill_color\":{\"value\":\"#1f77b4\"},\"left\":{\"field\":\"left\"},\"right\":{\"field\":\"right\"},\"top\":{\"field\":\"top\"}},\"id\":\"1138\",\"type\":\"Quad\"},{\"attributes\":{\"formatter\":{\"id\":\"1144\",\"type\":\"BasicTickFormatter\"},\"ticker\":{\"id\":\"1115\",\"type\":\"BasicTicker\"}},\"id\":\"1114\",\"type\":\"LinearAxis\"},{\"attributes\":{},\"id\":\"1127\",\"type\":\"SaveTool\"},{\"attributes\":{},\"id\":\"1144\",\"type\":\"BasicTickFormatter\"},{\"attributes\":{},\"id\":\"1129\",\"type\":\"HelpTool\"},{\"attributes\":{\"overlay\":{\"id\":\"1147\",\"type\":\"BoxAnnotation\"}},\"id\":\"1126\",\"type\":\"BoxZoomTool\"},{\"attributes\":{\"source\":{\"id\":\"1137\",\"type\":\"ColumnDataSource\"}},\"id\":\"1141\",\"type\":\"CDSView\"},{\"attributes\":{\"callback\":null,\"data\":{\"left\":[0.0,3.84,7.68,11.52,15.36,19.2,23.04,26.88,30.72,34.56,38.4,42.239999999999995,46.08,49.92,53.76,57.599999999999994,61.44,65.28,69.12,72.96,76.8,80.64,84.47999999999999,88.32,92.16,96.0,99.84,103.67999999999999,107.52,111.36,115.19999999999999,119.03999999999999,122.88,126.72,130.56,134.4,138.24,142.07999999999998,145.92,149.76,153.6,157.44,161.28,165.12,168.95999999999998,172.79999999999998,176.64,180.48,184.32,188.16],\"right\":[3.84,7.68,11.52,15.36,19.2,23.04,26.88,30.72,34.56,38.4,42.239999999999995,46.08,49.92,53.76,57.599999999999994,61.44,65.28,69.12,72.96,76.8,80.64,84.47999999999999,88.32,92.16,96.0,99.84,103.67999999999999,107.52,111.36,115.19999999999999,119.03999999999999,122.88,126.72,130.56,134.4,138.24,142.07999999999998,145.92,149.76,153.6,157.44,161.28,165.12,168.95999999999998,172.79999999999998,176.64,180.48,184.32,188.16,192.0],\"top\":[9804,2730,1557,1110,904,737,441,486,373,328,256,193,150,170,156,130,85,79,54,62,58,58,53,62,53,62,46,27,31,34,32,23,15,25,14,19,15,25,13,23,21,18,29,37,50,56,62,76,115,354]},\"selected\":{\"id\":\"1164\",\"type\":\"Selection\"},\"selection_policy\":{\"id\":\"1165\",\"type\":\"UnionRenderers\"}},\"id\":\"1137\",\"type\":\"ColumnDataSource\"},{\"attributes\":{\"callback\":null,\"end\":201.6,\"start\":-9.600000000000001},\"id\":\"1106\",\"type\":\"Range1d\"},{\"attributes\":{},\"id\":\"1112\",\"type\":\"LinearScale\"},{\"attributes\":{\"ticker\":{\"id\":\"1115\",\"type\":\"BasicTicker\"}},\"id\":\"1118\",\"type\":\"Grid\"},{\"attributes\":{},\"id\":\"1110\",\"type\":\"LinearScale\"},{\"attributes\":{\"axis_label\":\"Frequency\",\"formatter\":{\"id\":\"1146\",\"type\":\"BasicTickFormatter\"},\"ticker\":{\"id\":\"1120\",\"type\":\"BasicTicker\"}},\"id\":\"1119\",\"type\":\"LinearAxis\"},{\"attributes\":{\"items\":[{\"id\":\"1149\",\"type\":\"LegendItem\"}]},\"id\":\"1148\",\"type\":\"Legend\"},{\"attributes\":{},\"id\":\"1128\",\"type\":\"ResetTool\"},{\"attributes\":{\"bottom_units\":\"screen\",\"fill_alpha\":{\"value\":0.5},\"fill_color\":{\"value\":\"lightgrey\"},\"left_units\":\"screen\",\"level\":\"overlay\",\"line_alpha\":{\"value\":1.0},\"line_color\":{\"value\":\"black\"},\"line_dash\":[4,4],\"line_width\":{\"value\":2},\"render_mode\":\"css\",\"right_units\":\"screen\",\"top_units\":\"screen\"},\"id\":\"1147\",\"type\":\"BoxAnnotation\"},{\"attributes\":{},\"id\":\"1120\",\"type\":\"BasicTicker\"},{\"attributes\":{},\"id\":\"1164\",\"type\":\"Selection\"},{\"attributes\":{\"data_source\":{\"id\":\"1137\",\"type\":\"ColumnDataSource\"},\"glyph\":{\"id\":\"1138\",\"type\":\"Quad\"},\"hover_glyph\":null,\"muted_glyph\":null,\"nonselection_glyph\":{\"id\":\"1139\",\"type\":\"Quad\"},\"selection_glyph\":null,\"view\":{\"id\":\"1141\",\"type\":\"CDSView\"}},\"id\":\"1140\",\"type\":\"GlyphRenderer\"}],\"root_ids\":[\"1104\"]},\"title\":\"Bokeh Application\",\"version\":\"1.4.0\"}};\n",
       "  var render_items = [{\"docid\":\"c3fa76a4-39c8-494b-b3b2-161a4b0f7557\",\"roots\":{\"1104\":\"8676838a-3fb3-4c14-9b15-e84f5c294cec\"}}];\n",
       "  root.Bokeh.embed.embed_items_notebook(docs_json, render_items);\n",
       "\n",
       "  }\n",
       "  if (root.Bokeh !== undefined) {\n",
       "    embed_document(root);\n",
       "  } else {\n",
       "    var attempts = 0;\n",
       "    var timer = setInterval(function(root) {\n",
       "      if (root.Bokeh !== undefined) {\n",
       "        clearInterval(timer);\n",
       "        embed_document(root);\n",
       "      } else {\n",
       "        attempts++;\n",
       "        if (attempts > 100) {\n",
       "          clearInterval(timer);\n",
       "          console.log(\"Bokeh: ERROR: Unable to run BokehJS code because BokehJS library is missing\");\n",
       "        }\n",
       "      }\n",
       "    }, 10, root)\n",
       "  }\n",
       "})(window);"
      ],
      "application/vnd.bokehjs_exec.v0+json": ""
     },
     "metadata": {
      "application/vnd.bokehjs_exec.v0+json": {
       "id": "1104"
      }
     },
     "output_type": "display_data"
    }
   ],
   "source": [
    "p = hl.plot.histogram(mt.variant_qc.n_het)\n",
    "show(p)"
   ]
  },
  {
   "cell_type": "code",
   "execution_count": 11,
   "id": "stable-lawyer",
   "metadata": {},
   "outputs": [
    {
     "name": "stderr",
     "output_type": "stream",
     "text": [
      "2021-04-28 15:41:19 Hail: INFO: Coerced sorted dataset\n",
      "2021-04-28 15:41:23 Hail: INFO: Coerced sorted dataset\n"
     ]
    },
    {
     "data": {
      "text/html": [
       "\n",
       "\n",
       "\n",
       "\n",
       "\n",
       "\n",
       "  <div class=\"bk-root\" id=\"c04271d6-2d5a-4519-a9bb-223dfce5f602\" data-root-id=\"1214\"></div>\n"
      ]
     },
     "metadata": {},
     "output_type": "display_data"
    },
    {
     "data": {
      "application/javascript": [
       "(function(root) {\n",
       "  function embed_document(root) {\n",
       "    \n",
       "  var docs_json = {\"43a9eef8-c2be-4a61-9a8a-f7426b0d1a9c\":{\"roots\":{\"references\":[{\"attributes\":{\"background_fill_color\":{\"value\":\"#EEEEEE\"},\"below\":[{\"id\":\"1224\",\"type\":\"LinearAxis\"}],\"center\":[{\"id\":\"1228\",\"type\":\"Grid\"},{\"id\":\"1233\",\"type\":\"Grid\"},{\"id\":\"1258\",\"type\":\"Legend\"}],\"left\":[{\"id\":\"1229\",\"type\":\"LinearAxis\"}],\"renderers\":[{\"id\":\"1250\",\"type\":\"GlyphRenderer\"}],\"title\":null,\"toolbar\":{\"id\":\"1240\",\"type\":\"Toolbar\"},\"x_range\":{\"id\":\"1216\",\"type\":\"Range1d\"},\"x_scale\":{\"id\":\"1220\",\"type\":\"LinearScale\"},\"y_range\":{\"id\":\"1218\",\"type\":\"DataRange1d\"},\"y_scale\":{\"id\":\"1222\",\"type\":\"LinearScale\"}},\"id\":\"1214\",\"subtype\":\"Figure\",\"type\":\"Plot\"},{\"attributes\":{\"overlay\":{\"id\":\"1257\",\"type\":\"BoxAnnotation\"}},\"id\":\"1236\",\"type\":\"BoxZoomTool\"},{\"attributes\":{\"active_drag\":\"auto\",\"active_inspect\":\"auto\",\"active_multi\":null,\"active_scroll\":\"auto\",\"active_tap\":\"auto\",\"tools\":[{\"id\":\"1234\",\"type\":\"PanTool\"},{\"id\":\"1235\",\"type\":\"WheelZoomTool\"},{\"id\":\"1236\",\"type\":\"BoxZoomTool\"},{\"id\":\"1237\",\"type\":\"SaveTool\"},{\"id\":\"1238\",\"type\":\"ResetTool\"},{\"id\":\"1239\",\"type\":\"HelpTool\"}]},\"id\":\"1240\",\"type\":\"Toolbar\"},{\"attributes\":{\"callback\":null},\"id\":\"1218\",\"type\":\"DataRange1d\"},{\"attributes\":{},\"id\":\"1234\",\"type\":\"PanTool\"},{\"attributes\":{\"bottom\":{\"value\":0},\"fill_alpha\":{\"value\":0.1},\"fill_color\":{\"value\":\"#1f77b4\"},\"left\":{\"field\":\"left\"},\"line_alpha\":{\"value\":0.1},\"line_color\":{\"value\":\"#1f77b4\"},\"right\":{\"field\":\"right\"},\"top\":{\"field\":\"top\"}},\"id\":\"1249\",\"type\":\"Quad\"},{\"attributes\":{\"ticker\":{\"id\":\"1225\",\"type\":\"BasicTicker\"}},\"id\":\"1228\",\"type\":\"Grid\"},{\"attributes\":{},\"id\":\"1237\",\"type\":\"SaveTool\"},{\"attributes\":{},\"id\":\"1256\",\"type\":\"BasicTickFormatter\"},{\"attributes\":{\"data_source\":{\"id\":\"1247\",\"type\":\"ColumnDataSource\"},\"glyph\":{\"id\":\"1248\",\"type\":\"Quad\"},\"hover_glyph\":null,\"muted_glyph\":null,\"nonselection_glyph\":{\"id\":\"1249\",\"type\":\"Quad\"},\"selection_glyph\":null,\"view\":{\"id\":\"1251\",\"type\":\"CDSView\"}},\"id\":\"1250\",\"type\":\"GlyphRenderer\"},{\"attributes\":{\"items\":[{\"id\":\"1259\",\"type\":\"LegendItem\"}]},\"id\":\"1258\",\"type\":\"Legend\"},{\"attributes\":{},\"id\":\"1230\",\"type\":\"BasicTicker\"},{\"attributes\":{\"source\":{\"id\":\"1247\",\"type\":\"ColumnDataSource\"}},\"id\":\"1251\",\"type\":\"CDSView\"},{\"attributes\":{\"formatter\":{\"id\":\"1254\",\"type\":\"BasicTickFormatter\"},\"ticker\":{\"id\":\"1225\",\"type\":\"BasicTicker\"}},\"id\":\"1224\",\"type\":\"LinearAxis\"},{\"attributes\":{\"bottom\":{\"value\":0},\"fill_color\":{\"value\":\"#1f77b4\"},\"left\":{\"field\":\"left\"},\"right\":{\"field\":\"right\"},\"top\":{\"field\":\"top\"}},\"id\":\"1248\",\"type\":\"Quad\"},{\"attributes\":{},\"id\":\"1282\",\"type\":\"Selection\"},{\"attributes\":{\"callback\":null,\"end\":1.0498698,\"start\":-0.04726579999999999},\"id\":\"1216\",\"type\":\"Range1d\"},{\"attributes\":{},\"id\":\"1222\",\"type\":\"LinearScale\"},{\"attributes\":{},\"id\":\"1225\",\"type\":\"BasicTicker\"},{\"attributes\":{},\"id\":\"1254\",\"type\":\"BasicTickFormatter\"},{\"attributes\":{},\"id\":\"1238\",\"type\":\"ResetTool\"},{\"attributes\":{\"callback\":null,\"data\":{\"left\":[0.002604,0.022551919999999996,0.04249984,0.06244776,0.08239567999999999,0.10234359999999998,0.12229151999999999,0.14223943999999997,0.16218735999999997,0.18213527999999998,0.20208319999999996,0.22203111999999997,0.24197903999999998,0.26192696,0.28187487999999994,0.30182279999999995,0.32177071999999995,0.34171863999999996,0.36166655999999997,0.3816144799999999,0.40156239999999993,0.42151031999999994,0.44145823999999995,0.46140615999999995,0.48135407999999996,0.5013019999999999,0.52124992,0.5411978399999999,0.5611457599999999,0.58109368,0.6010416,0.62098952,0.64093744,0.66088536,0.68083328,0.7007812,0.72072912,0.74067704,0.7606249599999999,0.7805728799999999,0.8005207999999999,0.8204687199999999,0.8404166399999999,0.86036456,0.88031248,0.9002604,0.92020832,0.94015624,0.96010416,0.9800520799999999],\"right\":[0.022551919999999996,0.04249984,0.06244776,0.08239567999999999,0.10234359999999998,0.12229151999999999,0.14223943999999997,0.16218735999999997,0.18213527999999998,0.20208319999999996,0.22203111999999997,0.24197903999999998,0.26192696,0.28187487999999994,0.30182279999999995,0.32177071999999995,0.34171863999999996,0.36166655999999997,0.3816144799999999,0.40156239999999993,0.42151031999999994,0.44145823999999995,0.46140615999999995,0.48135407999999996,0.5013019999999999,0.52124992,0.5411978399999999,0.5611457599999999,0.58109368,0.6010416,0.62098952,0.64093744,0.66088536,0.68083328,0.7007812,0.72072912,0.74067704,0.7606249599999999,0.7805728799999999,0.8005207999999999,0.8204687199999999,0.8404166399999999,0.86036456,0.88031248,0.9002604,0.92020832,0.94015624,0.96010416,0.9800520799999999,0.9999999999999999],\"top\":[6929,2069,1158,740,579,465,430,434,432,363,343,283,400,294,237,210,217,195,191,172,212,232,243,314,756,216,109,121,118,98,100,83,108,118,104,89,85,121,86,124,128,117,80,87,85,93,84,100,149,810]},\"selected\":{\"id\":\"1282\",\"type\":\"Selection\"},\"selection_policy\":{\"id\":\"1283\",\"type\":\"UnionRenderers\"}},\"id\":\"1247\",\"type\":\"ColumnDataSource\"},{\"attributes\":{},\"id\":\"1239\",\"type\":\"HelpTool\"},{\"attributes\":{\"label\":{\"value\":\"\"},\"renderers\":[{\"id\":\"1250\",\"type\":\"GlyphRenderer\"}]},\"id\":\"1259\",\"type\":\"LegendItem\"},{\"attributes\":{\"axis_label\":\"Frequency\",\"formatter\":{\"id\":\"1256\",\"type\":\"BasicTickFormatter\"},\"ticker\":{\"id\":\"1230\",\"type\":\"BasicTicker\"}},\"id\":\"1229\",\"type\":\"LinearAxis\"},{\"attributes\":{},\"id\":\"1283\",\"type\":\"UnionRenderers\"},{\"attributes\":{\"bottom_units\":\"screen\",\"fill_alpha\":{\"value\":0.5},\"fill_color\":{\"value\":\"lightgrey\"},\"left_units\":\"screen\",\"level\":\"overlay\",\"line_alpha\":{\"value\":1.0},\"line_color\":{\"value\":\"black\"},\"line_dash\":[4,4],\"line_width\":{\"value\":2},\"render_mode\":\"css\",\"right_units\":\"screen\",\"top_units\":\"screen\"},\"id\":\"1257\",\"type\":\"BoxAnnotation\"},{\"attributes\":{},\"id\":\"1220\",\"type\":\"LinearScale\"},{\"attributes\":{},\"id\":\"1235\",\"type\":\"WheelZoomTool\"},{\"attributes\":{\"dimension\":1,\"ticker\":{\"id\":\"1230\",\"type\":\"BasicTicker\"}},\"id\":\"1233\",\"type\":\"Grid\"}],\"root_ids\":[\"1214\"]},\"title\":\"Bokeh Application\",\"version\":\"1.4.0\"}};\n",
       "  var render_items = [{\"docid\":\"43a9eef8-c2be-4a61-9a8a-f7426b0d1a9c\",\"roots\":{\"1214\":\"c04271d6-2d5a-4519-a9bb-223dfce5f602\"}}];\n",
       "  root.Bokeh.embed.embed_items_notebook(docs_json, render_items);\n",
       "\n",
       "  }\n",
       "  if (root.Bokeh !== undefined) {\n",
       "    embed_document(root);\n",
       "  } else {\n",
       "    var attempts = 0;\n",
       "    var timer = setInterval(function(root) {\n",
       "      if (root.Bokeh !== undefined) {\n",
       "        clearInterval(timer);\n",
       "        embed_document(root);\n",
       "      } else {\n",
       "        attempts++;\n",
       "        if (attempts > 100) {\n",
       "          clearInterval(timer);\n",
       "          console.log(\"Bokeh: ERROR: Unable to run BokehJS code because BokehJS library is missing\");\n",
       "        }\n",
       "      }\n",
       "    }, 10, root)\n",
       "  }\n",
       "})(window);"
      ],
      "application/vnd.bokehjs_exec.v0+json": ""
     },
     "metadata": {
      "application/vnd.bokehjs_exec.v0+json": {
       "id": "1214"
      }
     },
     "output_type": "display_data"
    }
   ],
   "source": [
    "p = hl.plot.histogram(hl.min(mt.info.AF))\n",
    "show(p)"
   ]
  },
  {
   "cell_type": "code",
   "execution_count": 12,
   "id": "associate-logic",
   "metadata": {},
   "outputs": [],
   "source": [
    "mt_flt = mt.filter_rows(mt.variant_qc.n_het < 96)\n",
    "mt_flt = mt_flt.filter_rows(mt_flt.variant_qc.call_rate > 0.75)\n",
    "#mt_flt = mt_flt.filter_rows(hl.min(mt_flt.variant_qc.AF) > 0.05)"
   ]
  },
  {
   "cell_type": "code",
   "execution_count": 13,
   "id": "recorded-spare",
   "metadata": {},
   "outputs": [
    {
     "name": "stderr",
     "output_type": "stream",
     "text": [
      "2021-04-28 15:41:27 Hail: INFO: Coerced sorted dataset\n",
      "2021-04-28 15:41:32 Hail: INFO: Coerced sorted dataset\n"
     ]
    },
    {
     "data": {
      "text/html": [
       "\n",
       "\n",
       "\n",
       "\n",
       "\n",
       "\n",
       "  <div class=\"bk-root\" id=\"eb47ed10-3f5f-4aac-9400-0e7d177419dd\" data-root-id=\"1332\"></div>\n"
      ]
     },
     "metadata": {},
     "output_type": "display_data"
    },
    {
     "data": {
      "application/javascript": [
       "(function(root) {\n",
       "  function embed_document(root) {\n",
       "    \n",
       "  var docs_json = {\"8b463dbe-114d-470b-84cc-a62b2b01e38a\":{\"roots\":{\"references\":[{\"attributes\":{\"background_fill_color\":{\"value\":\"#EEEEEE\"},\"below\":[{\"id\":\"1342\",\"type\":\"LinearAxis\"}],\"center\":[{\"id\":\"1346\",\"type\":\"Grid\"},{\"id\":\"1351\",\"type\":\"Grid\"},{\"id\":\"1376\",\"type\":\"Legend\"}],\"left\":[{\"id\":\"1347\",\"type\":\"LinearAxis\"}],\"renderers\":[{\"id\":\"1368\",\"type\":\"GlyphRenderer\"}],\"title\":null,\"toolbar\":{\"id\":\"1358\",\"type\":\"Toolbar\"},\"x_range\":{\"id\":\"1334\",\"type\":\"Range1d\"},\"x_scale\":{\"id\":\"1338\",\"type\":\"LinearScale\"},\"y_range\":{\"id\":\"1336\",\"type\":\"DataRange1d\"},\"y_scale\":{\"id\":\"1340\",\"type\":\"LinearScale\"}},\"id\":\"1332\",\"subtype\":\"Figure\",\"type\":\"Plot\"},{\"attributes\":{\"ticker\":{\"id\":\"1343\",\"type\":\"BasicTicker\"}},\"id\":\"1346\",\"type\":\"Grid\"},{\"attributes\":{\"bottom_units\":\"screen\",\"fill_alpha\":{\"value\":0.5},\"fill_color\":{\"value\":\"lightgrey\"},\"left_units\":\"screen\",\"level\":\"overlay\",\"line_alpha\":{\"value\":1.0},\"line_color\":{\"value\":\"black\"},\"line_dash\":[4,4],\"line_width\":{\"value\":2},\"render_mode\":\"css\",\"right_units\":\"screen\",\"top_units\":\"screen\"},\"id\":\"1375\",\"type\":\"BoxAnnotation\"},{\"attributes\":{\"dimension\":1,\"ticker\":{\"id\":\"1348\",\"type\":\"BasicTicker\"}},\"id\":\"1351\",\"type\":\"Grid\"},{\"attributes\":{\"bottom\":{\"value\":0},\"fill_color\":{\"value\":\"#1f77b4\"},\"left\":{\"field\":\"left\"},\"right\":{\"field\":\"right\"},\"top\":{\"field\":\"top\"}},\"id\":\"1366\",\"type\":\"Quad\"},{\"attributes\":{\"items\":[{\"id\":\"1377\",\"type\":\"LegendItem\"}]},\"id\":\"1376\",\"type\":\"Legend\"},{\"attributes\":{},\"id\":\"1343\",\"type\":\"BasicTicker\"},{\"attributes\":{},\"id\":\"1338\",\"type\":\"LinearScale\"},{\"attributes\":{},\"id\":\"1374\",\"type\":\"BasicTickFormatter\"},{\"attributes\":{},\"id\":\"1408\",\"type\":\"Selection\"},{\"attributes\":{\"callback\":null,\"end\":103.81290322580645,\"start\":-2.0709677419354846},\"id\":\"1334\",\"type\":\"Range1d\"},{\"attributes\":{\"formatter\":{\"id\":\"1372\",\"type\":\"BasicTickFormatter\"},\"ticker\":{\"id\":\"1343\",\"type\":\"BasicTicker\"}},\"id\":\"1342\",\"type\":\"LinearAxis\"},{\"attributes\":{\"source\":{\"id\":\"1365\",\"type\":\"ColumnDataSource\"}},\"id\":\"1369\",\"type\":\"CDSView\"},{\"attributes\":{\"label\":{\"value\":\"\"},\"renderers\":[{\"id\":\"1368\",\"type\":\"GlyphRenderer\"}]},\"id\":\"1377\",\"type\":\"LegendItem\"},{\"attributes\":{\"callback\":null,\"data\":{\"left\":[2.7419354838709675,4.667096774193548,6.592258064516129,8.51741935483871,10.442580645161291,12.367741935483872,14.292903225806452,16.218064516129033,18.143225806451614,20.068387096774195,21.993548387096777,23.918709677419358,25.843870967741935,27.769032258064517,29.694193548387098,31.61935483870968,33.54451612903226,35.46967741935484,37.39483870967742,39.32,41.245161290322585,43.17032258064516,45.09548387096775,47.020645161290325,48.9458064516129,50.87096774193549,52.796129032258065,54.72129032258065,56.64645161290323,58.57161290322581,60.49677419354839,62.421935483870975,64.34709677419355,66.27225806451612,68.1974193548387,70.12258064516129,72.04774193548387,73.97290322580645,75.89806451612903,77.82322580645162,79.7483870967742,81.67354838709677,83.59870967741935,85.52387096774193,87.44903225806452,89.3741935483871,91.29935483870968,93.22451612903225,95.14967741935483,97.07483870967742],\"right\":[4.667096774193548,6.592258064516129,8.51741935483871,10.442580645161291,12.367741935483872,14.292903225806452,16.218064516129033,18.143225806451614,20.068387096774195,21.993548387096777,23.918709677419358,25.843870967741935,27.769032258064517,29.694193548387098,31.61935483870968,33.54451612903226,35.46967741935484,37.39483870967742,39.32,41.245161290322585,43.17032258064516,45.09548387096775,47.020645161290325,48.9458064516129,50.87096774193549,52.796129032258065,54.72129032258065,56.64645161290323,58.57161290322581,60.49677419354839,62.421935483870975,64.34709677419355,66.27225806451612,68.1974193548387,70.12258064516129,72.04774193548387,73.97290322580645,75.89806451612903,77.82322580645162,79.7483870967742,81.67354838709677,83.59870967741935,85.52387096774193,87.44903225806452,89.3741935483871,91.29935483870968,93.22451612903225,95.14967741935483,97.07483870967742,99.0],\"top\":[7,33,282,617,686,794,839,932,943,951,940,858,821,743,658,587,575,486,441,409,325,282,273,244,231,185,184,176,153,135,124,112,83,77,89,58,63,64,50,51,48,37,51,18,27,17,14,22,22,17]},\"selected\":{\"id\":\"1408\",\"type\":\"Selection\"},\"selection_policy\":{\"id\":\"1409\",\"type\":\"UnionRenderers\"}},\"id\":\"1365\",\"type\":\"ColumnDataSource\"},{\"attributes\":{\"active_drag\":\"auto\",\"active_inspect\":\"auto\",\"active_multi\":null,\"active_scroll\":\"auto\",\"active_tap\":\"auto\",\"tools\":[{\"id\":\"1352\",\"type\":\"PanTool\"},{\"id\":\"1353\",\"type\":\"WheelZoomTool\"},{\"id\":\"1354\",\"type\":\"BoxZoomTool\"},{\"id\":\"1355\",\"type\":\"SaveTool\"},{\"id\":\"1356\",\"type\":\"ResetTool\"},{\"id\":\"1357\",\"type\":\"HelpTool\"}]},\"id\":\"1358\",\"type\":\"Toolbar\"},{\"attributes\":{},\"id\":\"1348\",\"type\":\"BasicTicker\"},{\"attributes\":{},\"id\":\"1372\",\"type\":\"BasicTickFormatter\"},{\"attributes\":{},\"id\":\"1409\",\"type\":\"UnionRenderers\"},{\"attributes\":{\"callback\":null},\"id\":\"1336\",\"type\":\"DataRange1d\"},{\"attributes\":{},\"id\":\"1353\",\"type\":\"WheelZoomTool\"},{\"attributes\":{\"data_source\":{\"id\":\"1365\",\"type\":\"ColumnDataSource\"},\"glyph\":{\"id\":\"1366\",\"type\":\"Quad\"},\"hover_glyph\":null,\"muted_glyph\":null,\"nonselection_glyph\":{\"id\":\"1367\",\"type\":\"Quad\"},\"selection_glyph\":null,\"view\":{\"id\":\"1369\",\"type\":\"CDSView\"}},\"id\":\"1368\",\"type\":\"GlyphRenderer\"},{\"attributes\":{},\"id\":\"1352\",\"type\":\"PanTool\"},{\"attributes\":{},\"id\":\"1340\",\"type\":\"LinearScale\"},{\"attributes\":{\"bottom\":{\"value\":0},\"fill_alpha\":{\"value\":0.1},\"fill_color\":{\"value\":\"#1f77b4\"},\"left\":{\"field\":\"left\"},\"line_alpha\":{\"value\":0.1},\"line_color\":{\"value\":\"#1f77b4\"},\"right\":{\"field\":\"right\"},\"top\":{\"field\":\"top\"}},\"id\":\"1367\",\"type\":\"Quad\"},{\"attributes\":{\"axis_label\":\"Frequency\",\"formatter\":{\"id\":\"1374\",\"type\":\"BasicTickFormatter\"},\"ticker\":{\"id\":\"1348\",\"type\":\"BasicTicker\"}},\"id\":\"1347\",\"type\":\"LinearAxis\"},{\"attributes\":{},\"id\":\"1355\",\"type\":\"SaveTool\"},{\"attributes\":{},\"id\":\"1357\",\"type\":\"HelpTool\"},{\"attributes\":{},\"id\":\"1356\",\"type\":\"ResetTool\"},{\"attributes\":{\"overlay\":{\"id\":\"1375\",\"type\":\"BoxAnnotation\"}},\"id\":\"1354\",\"type\":\"BoxZoomTool\"}],\"root_ids\":[\"1332\"]},\"title\":\"Bokeh Application\",\"version\":\"1.4.0\"}};\n",
       "  var render_items = [{\"docid\":\"8b463dbe-114d-470b-84cc-a62b2b01e38a\",\"roots\":{\"1332\":\"eb47ed10-3f5f-4aac-9400-0e7d177419dd\"}}];\n",
       "  root.Bokeh.embed.embed_items_notebook(docs_json, render_items);\n",
       "\n",
       "  }\n",
       "  if (root.Bokeh !== undefined) {\n",
       "    embed_document(root);\n",
       "  } else {\n",
       "    var attempts = 0;\n",
       "    var timer = setInterval(function(root) {\n",
       "      if (root.Bokeh !== undefined) {\n",
       "        clearInterval(timer);\n",
       "        embed_document(root);\n",
       "      } else {\n",
       "        attempts++;\n",
       "        if (attempts > 100) {\n",
       "          clearInterval(timer);\n",
       "          console.log(\"Bokeh: ERROR: Unable to run BokehJS code because BokehJS library is missing\");\n",
       "        }\n",
       "      }\n",
       "    }, 10, root)\n",
       "  }\n",
       "})(window);"
      ],
      "application/vnd.bokehjs_exec.v0+json": ""
     },
     "metadata": {
      "application/vnd.bokehjs_exec.v0+json": {
       "id": "1332"
      }
     },
     "output_type": "display_data"
    }
   ],
   "source": [
    "p = hl.plot.histogram(mt_flt.variant_qc.gq_stats.mean)\n",
    "show(p)"
   ]
  },
  {
   "cell_type": "code",
   "execution_count": 14,
   "id": "roman-portable",
   "metadata": {},
   "outputs": [],
   "source": [
    "mt_flt = mt_flt.filter_rows(mt_flt.variant_qc.gq_stats.mean > 15)"
   ]
  },
  {
   "cell_type": "code",
   "execution_count": 15,
   "id": "classical-workshop",
   "metadata": {},
   "outputs": [
    {
     "name": "stderr",
     "output_type": "stream",
     "text": [
      "2021-04-28 15:41:38 Hail: INFO: Coerced sorted dataset\n"
     ]
    },
    {
     "data": {
      "text/plain": [
       "(13108, 192)"
      ]
     },
     "execution_count": 15,
     "metadata": {},
     "output_type": "execute_result"
    }
   ],
   "source": [
    "mt_flt.count()"
   ]
  },
  {
   "cell_type": "code",
   "execution_count": 16,
   "id": "coastal-salvation",
   "metadata": {},
   "outputs": [
    {
     "name": "stderr",
     "output_type": "stream",
     "text": [
      "2021-04-28 15:41:43 Hail: INFO: Coerced sorted dataset\n",
      "2021-04-28 15:41:48 Hail: INFO: Coerced sorted dataset\n"
     ]
    },
    {
     "data": {
      "text/html": [
       "\n",
       "\n",
       "\n",
       "\n",
       "\n",
       "\n",
       "  <div class=\"bk-root\" id=\"3f54694c-84c0-4359-9f26-696e19c22d71\" data-root-id=\"1458\"></div>\n"
      ]
     },
     "metadata": {},
     "output_type": "display_data"
    },
    {
     "data": {
      "application/javascript": [
       "(function(root) {\n",
       "  function embed_document(root) {\n",
       "    \n",
       "  var docs_json = {\"88123a45-4a06-48f5-b8b2-a10c912d8914\":{\"roots\":{\"references\":[{\"attributes\":{\"background_fill_color\":{\"value\":\"#EEEEEE\"},\"below\":[{\"id\":\"1468\",\"type\":\"LinearAxis\"}],\"center\":[{\"id\":\"1472\",\"type\":\"Grid\"},{\"id\":\"1477\",\"type\":\"Grid\"},{\"id\":\"1502\",\"type\":\"Legend\"}],\"left\":[{\"id\":\"1473\",\"type\":\"LinearAxis\"}],\"renderers\":[{\"id\":\"1494\",\"type\":\"GlyphRenderer\"}],\"title\":null,\"toolbar\":{\"id\":\"1484\",\"type\":\"Toolbar\"},\"x_range\":{\"id\":\"1460\",\"type\":\"Range1d\"},\"x_scale\":{\"id\":\"1464\",\"type\":\"LinearScale\"},\"y_range\":{\"id\":\"1462\",\"type\":\"DataRange1d\"},\"y_scale\":{\"id\":\"1466\",\"type\":\"LinearScale\"}},\"id\":\"1458\",\"subtype\":\"Figure\",\"type\":\"Plot\"},{\"attributes\":{\"active_drag\":\"auto\",\"active_inspect\":\"auto\",\"active_multi\":null,\"active_scroll\":\"auto\",\"active_tap\":\"auto\",\"tools\":[{\"id\":\"1478\",\"type\":\"PanTool\"},{\"id\":\"1479\",\"type\":\"WheelZoomTool\"},{\"id\":\"1480\",\"type\":\"BoxZoomTool\"},{\"id\":\"1481\",\"type\":\"SaveTool\"},{\"id\":\"1482\",\"type\":\"ResetTool\"},{\"id\":\"1483\",\"type\":\"HelpTool\"}]},\"id\":\"1484\",\"type\":\"Toolbar\"},{\"attributes\":{},\"id\":\"1498\",\"type\":\"BasicTickFormatter\"},{\"attributes\":{},\"id\":\"1542\",\"type\":\"Selection\"},{\"attributes\":{},\"id\":\"1469\",\"type\":\"BasicTicker\"},{\"attributes\":{\"bottom_units\":\"screen\",\"fill_alpha\":{\"value\":0.5},\"fill_color\":{\"value\":\"lightgrey\"},\"left_units\":\"screen\",\"level\":\"overlay\",\"line_alpha\":{\"value\":1.0},\"line_color\":{\"value\":\"black\"},\"line_dash\":[4,4],\"line_width\":{\"value\":2},\"render_mode\":\"css\",\"right_units\":\"screen\",\"top_units\":\"screen\"},\"id\":\"1501\",\"type\":\"BoxAnnotation\"},{\"attributes\":{},\"id\":\"1543\",\"type\":\"UnionRenderers\"},{\"attributes\":{},\"id\":\"1466\",\"type\":\"LinearScale\"},{\"attributes\":{\"dimension\":1,\"ticker\":{\"id\":\"1474\",\"type\":\"BasicTicker\"}},\"id\":\"1477\",\"type\":\"Grid\"},{\"attributes\":{\"label\":{\"value\":\"\"},\"renderers\":[{\"id\":\"1494\",\"type\":\"GlyphRenderer\"}]},\"id\":\"1503\",\"type\":\"LegendItem\"},{\"attributes\":{\"callback\":null,\"end\":99.75,\"start\":-4.75},\"id\":\"1460\",\"type\":\"Range1d\"},{\"attributes\":{},\"id\":\"1464\",\"type\":\"LinearScale\"},{\"attributes\":{\"source\":{\"id\":\"1491\",\"type\":\"ColumnDataSource\"}},\"id\":\"1495\",\"type\":\"CDSView\"},{\"attributes\":{},\"id\":\"1478\",\"type\":\"PanTool\"},{\"attributes\":{\"overlay\":{\"id\":\"1501\",\"type\":\"BoxAnnotation\"}},\"id\":\"1480\",\"type\":\"BoxZoomTool\"},{\"attributes\":{\"callback\":null,\"data\":{\"left\":[0.0,1.9,3.8,5.699999999999999,7.6,9.5,11.399999999999999,13.299999999999999,15.2,17.099999999999998,19.0,20.9,22.799999999999997,24.7,26.599999999999998,28.5,30.4,32.3,34.199999999999996,36.1,38.0,39.9,41.8,43.699999999999996,45.599999999999994,47.5,49.4,51.3,53.199999999999996,55.099999999999994,57.0,58.9,60.8,62.699999999999996,64.6,66.5,68.39999999999999,70.3,72.2,74.1,76.0,77.89999999999999,79.8,81.7,83.6,85.5,87.39999999999999,89.3,91.19999999999999,93.1],\"right\":[1.9,3.8,5.699999999999999,7.6,9.5,11.399999999999999,13.299999999999999,15.2,17.099999999999998,19.0,20.9,22.799999999999997,24.7,26.599999999999998,28.5,30.4,32.3,34.199999999999996,36.1,38.0,39.9,41.8,43.699999999999996,45.599999999999994,47.5,49.4,51.3,53.199999999999996,55.099999999999994,57.0,58.9,60.8,62.699999999999996,64.6,66.5,68.39999999999999,70.3,72.2,74.1,76.0,77.89999999999999,79.8,81.7,83.6,85.5,87.39999999999999,89.3,91.19999999999999,93.1,95.0],\"top\":[3535,1820,974,711,573,453,431,405,351,193,328,329,257,246,222,203,159,163,148,66,129,123,93,81,89,90,78,74,82,29,63,63,44,41,32,35,35,34,27,13,35,23,33,23,31,19,17,35,34,36]},\"selected\":{\"id\":\"1542\",\"type\":\"Selection\"},\"selection_policy\":{\"id\":\"1543\",\"type\":\"UnionRenderers\"}},\"id\":\"1491\",\"type\":\"ColumnDataSource\"},{\"attributes\":{\"items\":[{\"id\":\"1503\",\"type\":\"LegendItem\"}]},\"id\":\"1502\",\"type\":\"Legend\"},{\"attributes\":{},\"id\":\"1500\",\"type\":\"BasicTickFormatter\"},{\"attributes\":{\"callback\":null},\"id\":\"1462\",\"type\":\"DataRange1d\"},{\"attributes\":{\"bottom\":{\"value\":0},\"fill_color\":{\"value\":\"#1f77b4\"},\"left\":{\"field\":\"left\"},\"right\":{\"field\":\"right\"},\"top\":{\"field\":\"top\"}},\"id\":\"1492\",\"type\":\"Quad\"},{\"attributes\":{\"bottom\":{\"value\":0},\"fill_alpha\":{\"value\":0.1},\"fill_color\":{\"value\":\"#1f77b4\"},\"left\":{\"field\":\"left\"},\"line_alpha\":{\"value\":0.1},\"line_color\":{\"value\":\"#1f77b4\"},\"right\":{\"field\":\"right\"},\"top\":{\"field\":\"top\"}},\"id\":\"1493\",\"type\":\"Quad\"},{\"attributes\":{},\"id\":\"1481\",\"type\":\"SaveTool\"},{\"attributes\":{},\"id\":\"1482\",\"type\":\"ResetTool\"},{\"attributes\":{\"ticker\":{\"id\":\"1469\",\"type\":\"BasicTicker\"}},\"id\":\"1472\",\"type\":\"Grid\"},{\"attributes\":{\"formatter\":{\"id\":\"1498\",\"type\":\"BasicTickFormatter\"},\"ticker\":{\"id\":\"1469\",\"type\":\"BasicTicker\"}},\"id\":\"1468\",\"type\":\"LinearAxis\"},{\"attributes\":{},\"id\":\"1483\",\"type\":\"HelpTool\"},{\"attributes\":{},\"id\":\"1474\",\"type\":\"BasicTicker\"},{\"attributes\":{\"axis_label\":\"Frequency\",\"formatter\":{\"id\":\"1500\",\"type\":\"BasicTickFormatter\"},\"ticker\":{\"id\":\"1474\",\"type\":\"BasicTicker\"}},\"id\":\"1473\",\"type\":\"LinearAxis\"},{\"attributes\":{},\"id\":\"1479\",\"type\":\"WheelZoomTool\"},{\"attributes\":{\"data_source\":{\"id\":\"1491\",\"type\":\"ColumnDataSource\"},\"glyph\":{\"id\":\"1492\",\"type\":\"Quad\"},\"hover_glyph\":null,\"muted_glyph\":null,\"nonselection_glyph\":{\"id\":\"1493\",\"type\":\"Quad\"},\"selection_glyph\":null,\"view\":{\"id\":\"1495\",\"type\":\"CDSView\"}},\"id\":\"1494\",\"type\":\"GlyphRenderer\"}],\"root_ids\":[\"1458\"]},\"title\":\"Bokeh Application\",\"version\":\"1.4.0\"}};\n",
       "  var render_items = [{\"docid\":\"88123a45-4a06-48f5-b8b2-a10c912d8914\",\"roots\":{\"1458\":\"3f54694c-84c0-4359-9f26-696e19c22d71\"}}];\n",
       "  root.Bokeh.embed.embed_items_notebook(docs_json, render_items);\n",
       "\n",
       "  }\n",
       "  if (root.Bokeh !== undefined) {\n",
       "    embed_document(root);\n",
       "  } else {\n",
       "    var attempts = 0;\n",
       "    var timer = setInterval(function(root) {\n",
       "      if (root.Bokeh !== undefined) {\n",
       "        clearInterval(timer);\n",
       "        embed_document(root);\n",
       "      } else {\n",
       "        attempts++;\n",
       "        if (attempts > 100) {\n",
       "          clearInterval(timer);\n",
       "          console.log(\"Bokeh: ERROR: Unable to run BokehJS code because BokehJS library is missing\");\n",
       "        }\n",
       "      }\n",
       "    }, 10, root)\n",
       "  }\n",
       "})(window);"
      ],
      "application/vnd.bokehjs_exec.v0+json": ""
     },
     "metadata": {
      "application/vnd.bokehjs_exec.v0+json": {
       "id": "1458"
      }
     },
     "output_type": "display_data"
    }
   ],
   "source": [
    "p = hl.plot.histogram(mt_flt.variant_qc.n_het)\n",
    "show(p)"
   ]
  },
  {
   "cell_type": "code",
   "execution_count": 17,
   "id": "therapeutic-turtle",
   "metadata": {},
   "outputs": [
    {
     "name": "stderr",
     "output_type": "stream",
     "text": [
      "2021-04-28 15:41:54 Hail: INFO: Coerced sorted dataset\n",
      "2021-04-28 15:42:00 Hail: INFO: Coerced sorted dataset\n"
     ]
    },
    {
     "data": {
      "text/html": [
       "\n",
       "\n",
       "\n",
       "\n",
       "\n",
       "\n",
       "  <div class=\"bk-root\" id=\"685d60e9-84c4-46bb-9f5b-9fd7089d1fa4\" data-root-id=\"1592\"></div>\n"
      ]
     },
     "metadata": {},
     "output_type": "display_data"
    },
    {
     "data": {
      "application/javascript": [
       "(function(root) {\n",
       "  function embed_document(root) {\n",
       "    \n",
       "  var docs_json = {\"1fe8f22a-51f7-4ca1-8ac3-9811e650551c\":{\"roots\":{\"references\":[{\"attributes\":{\"background_fill_color\":{\"value\":\"#EEEEEE\"},\"below\":[{\"id\":\"1602\",\"type\":\"LinearAxis\"}],\"center\":[{\"id\":\"1606\",\"type\":\"Grid\"},{\"id\":\"1611\",\"type\":\"Grid\"},{\"id\":\"1636\",\"type\":\"Legend\"}],\"left\":[{\"id\":\"1607\",\"type\":\"LinearAxis\"}],\"renderers\":[{\"id\":\"1628\",\"type\":\"GlyphRenderer\"}],\"title\":null,\"toolbar\":{\"id\":\"1618\",\"type\":\"Toolbar\"},\"x_range\":{\"id\":\"1594\",\"type\":\"Range1d\"},\"x_scale\":{\"id\":\"1598\",\"type\":\"LinearScale\"},\"y_range\":{\"id\":\"1596\",\"type\":\"DataRange1d\"},\"y_scale\":{\"id\":\"1600\",\"type\":\"LinearScale\"}},\"id\":\"1592\",\"subtype\":\"Figure\",\"type\":\"Plot\"},{\"attributes\":{},\"id\":\"1684\",\"type\":\"Selection\"},{\"attributes\":{\"formatter\":{\"id\":\"1632\",\"type\":\"BasicTickFormatter\"},\"ticker\":{\"id\":\"1603\",\"type\":\"BasicTicker\"}},\"id\":\"1602\",\"type\":\"LinearAxis\"},{\"attributes\":{},\"id\":\"1634\",\"type\":\"BasicTickFormatter\"},{\"attributes\":{},\"id\":\"1612\",\"type\":\"PanTool\"},{\"attributes\":{\"data_source\":{\"id\":\"1625\",\"type\":\"ColumnDataSource\"},\"glyph\":{\"id\":\"1626\",\"type\":\"Quad\"},\"hover_glyph\":null,\"muted_glyph\":null,\"nonselection_glyph\":{\"id\":\"1627\",\"type\":\"Quad\"},\"selection_glyph\":null,\"view\":{\"id\":\"1629\",\"type\":\"CDSView\"}},\"id\":\"1628\",\"type\":\"GlyphRenderer\"},{\"attributes\":{\"source\":{\"id\":\"1625\",\"type\":\"ColumnDataSource\"}},\"id\":\"1629\",\"type\":\"CDSView\"},{\"attributes\":{},\"id\":\"1608\",\"type\":\"BasicTicker\"},{\"attributes\":{},\"id\":\"1616\",\"type\":\"ResetTool\"},{\"attributes\":{\"overlay\":{\"id\":\"1635\",\"type\":\"BoxAnnotation\"}},\"id\":\"1614\",\"type\":\"BoxZoomTool\"},{\"attributes\":{\"callback\":null,\"data\":{\"left\":[0.002604,0.022551919999999996,0.04249984,0.06244776,0.08239567999999999,0.10234359999999998,0.12229151999999999,0.14223943999999997,0.16218735999999997,0.18213527999999998,0.20208319999999996,0.22203111999999997,0.24197903999999998,0.26192696,0.28187487999999994,0.30182279999999995,0.32177071999999995,0.34171863999999996,0.36166655999999997,0.3816144799999999,0.40156239999999993,0.42151031999999994,0.44145823999999995,0.46140615999999995,0.48135407999999996,0.5013019999999999,0.52124992,0.5411978399999999,0.5611457599999999,0.58109368,0.6010416,0.62098952,0.64093744,0.66088536,0.68083328,0.7007812,0.72072912,0.74067704,0.7606249599999999,0.7805728799999999,0.8005207999999999,0.8204687199999999,0.8404166399999999,0.86036456,0.88031248,0.9002604,0.92020832,0.94015624,0.96010416,0.9800520799999999],\"right\":[0.022551919999999996,0.04249984,0.06244776,0.08239567999999999,0.10234359999999998,0.12229151999999999,0.14223943999999997,0.16218735999999997,0.18213527999999998,0.20208319999999996,0.22203111999999997,0.24197903999999998,0.26192696,0.28187487999999994,0.30182279999999995,0.32177071999999995,0.34171863999999996,0.36166655999999997,0.3816144799999999,0.40156239999999993,0.42151031999999994,0.44145823999999995,0.46140615999999995,0.48135407999999996,0.5013019999999999,0.52124992,0.5411978399999999,0.5611457599999999,0.58109368,0.6010416,0.62098952,0.64093744,0.66088536,0.68083328,0.7007812,0.72072912,0.74067704,0.7606249599999999,0.7805728799999999,0.8005207999999999,0.8204687199999999,0.8404166399999999,0.86036456,0.88031248,0.9002604,0.92020832,0.94015624,0.96010416,0.9800520799999999,0.9999999999999999],\"top\":[5234,1417,778,447,361,301,249,284,297,239,222,200,223,178,118,134,120,102,100,87,108,122,105,149,99,97,64,70,70,48,52,43,58,53,44,49,38,53,41,70,69,37,31,26,23,32,23,41,46,256]},\"selected\":{\"id\":\"1684\",\"type\":\"Selection\"},\"selection_policy\":{\"id\":\"1685\",\"type\":\"UnionRenderers\"}},\"id\":\"1625\",\"type\":\"ColumnDataSource\"},{\"attributes\":{\"bottom\":{\"value\":0},\"fill_color\":{\"value\":\"#1f77b4\"},\"left\":{\"field\":\"left\"},\"right\":{\"field\":\"right\"},\"top\":{\"field\":\"top\"}},\"id\":\"1626\",\"type\":\"Quad\"},{\"attributes\":{\"axis_label\":\"Frequency\",\"formatter\":{\"id\":\"1634\",\"type\":\"BasicTickFormatter\"},\"ticker\":{\"id\":\"1608\",\"type\":\"BasicTicker\"}},\"id\":\"1607\",\"type\":\"LinearAxis\"},{\"attributes\":{},\"id\":\"1617\",\"type\":\"HelpTool\"},{\"attributes\":{\"bottom_units\":\"screen\",\"fill_alpha\":{\"value\":0.5},\"fill_color\":{\"value\":\"lightgrey\"},\"left_units\":\"screen\",\"level\":\"overlay\",\"line_alpha\":{\"value\":1.0},\"line_color\":{\"value\":\"black\"},\"line_dash\":[4,4],\"line_width\":{\"value\":2},\"render_mode\":\"css\",\"right_units\":\"screen\",\"top_units\":\"screen\"},\"id\":\"1635\",\"type\":\"BoxAnnotation\"},{\"attributes\":{\"ticker\":{\"id\":\"1603\",\"type\":\"BasicTicker\"}},\"id\":\"1606\",\"type\":\"Grid\"},{\"attributes\":{},\"id\":\"1600\",\"type\":\"LinearScale\"},{\"attributes\":{\"bottom\":{\"value\":0},\"fill_alpha\":{\"value\":0.1},\"fill_color\":{\"value\":\"#1f77b4\"},\"left\":{\"field\":\"left\"},\"line_alpha\":{\"value\":0.1},\"line_color\":{\"value\":\"#1f77b4\"},\"right\":{\"field\":\"right\"},\"top\":{\"field\":\"top\"}},\"id\":\"1627\",\"type\":\"Quad\"},{\"attributes\":{},\"id\":\"1598\",\"type\":\"LinearScale\"},{\"attributes\":{},\"id\":\"1685\",\"type\":\"UnionRenderers\"},{\"attributes\":{},\"id\":\"1603\",\"type\":\"BasicTicker\"},{\"attributes\":{},\"id\":\"1632\",\"type\":\"BasicTickFormatter\"},{\"attributes\":{\"items\":[{\"id\":\"1637\",\"type\":\"LegendItem\"}]},\"id\":\"1636\",\"type\":\"Legend\"},{\"attributes\":{\"dimension\":1,\"ticker\":{\"id\":\"1608\",\"type\":\"BasicTicker\"}},\"id\":\"1611\",\"type\":\"Grid\"},{\"attributes\":{\"callback\":null,\"end\":1.0498698,\"start\":-0.04726579999999999},\"id\":\"1594\",\"type\":\"Range1d\"},{\"attributes\":{},\"id\":\"1613\",\"type\":\"WheelZoomTool\"},{\"attributes\":{\"callback\":null},\"id\":\"1596\",\"type\":\"DataRange1d\"},{\"attributes\":{},\"id\":\"1615\",\"type\":\"SaveTool\"},{\"attributes\":{\"active_drag\":\"auto\",\"active_inspect\":\"auto\",\"active_multi\":null,\"active_scroll\":\"auto\",\"active_tap\":\"auto\",\"tools\":[{\"id\":\"1612\",\"type\":\"PanTool\"},{\"id\":\"1613\",\"type\":\"WheelZoomTool\"},{\"id\":\"1614\",\"type\":\"BoxZoomTool\"},{\"id\":\"1615\",\"type\":\"SaveTool\"},{\"id\":\"1616\",\"type\":\"ResetTool\"},{\"id\":\"1617\",\"type\":\"HelpTool\"}]},\"id\":\"1618\",\"type\":\"Toolbar\"},{\"attributes\":{\"label\":{\"value\":\"\"},\"renderers\":[{\"id\":\"1628\",\"type\":\"GlyphRenderer\"}]},\"id\":\"1637\",\"type\":\"LegendItem\"}],\"root_ids\":[\"1592\"]},\"title\":\"Bokeh Application\",\"version\":\"1.4.0\"}};\n",
       "  var render_items = [{\"docid\":\"1fe8f22a-51f7-4ca1-8ac3-9811e650551c\",\"roots\":{\"1592\":\"685d60e9-84c4-46bb-9f5b-9fd7089d1fa4\"}}];\n",
       "  root.Bokeh.embed.embed_items_notebook(docs_json, render_items);\n",
       "\n",
       "  }\n",
       "  if (root.Bokeh !== undefined) {\n",
       "    embed_document(root);\n",
       "  } else {\n",
       "    var attempts = 0;\n",
       "    var timer = setInterval(function(root) {\n",
       "      if (root.Bokeh !== undefined) {\n",
       "        clearInterval(timer);\n",
       "        embed_document(root);\n",
       "      } else {\n",
       "        attempts++;\n",
       "        if (attempts > 100) {\n",
       "          clearInterval(timer);\n",
       "          console.log(\"Bokeh: ERROR: Unable to run BokehJS code because BokehJS library is missing\");\n",
       "        }\n",
       "      }\n",
       "    }, 10, root)\n",
       "  }\n",
       "})(window);"
      ],
      "application/vnd.bokehjs_exec.v0+json": ""
     },
     "metadata": {
      "application/vnd.bokehjs_exec.v0+json": {
       "id": "1592"
      }
     },
     "output_type": "display_data"
    }
   ],
   "source": [
    "p = hl.plot.histogram(hl.min(mt_flt.info.AF))\n",
    "show(p)"
   ]
  },
  {
   "cell_type": "code",
   "execution_count": 18,
   "id": "opening-species",
   "metadata": {},
   "outputs": [
    {
     "name": "stderr",
     "output_type": "stream",
     "text": [
      "2021-04-28 15:42:06 Hail: INFO: Coerced sorted dataset\n",
      "2021-04-28 15:42:11 Hail: INFO: Coerced sorted dataset\n",
      "2021-04-28 15:42:13 Hail: INFO: Coerced sorted dataset\n",
      "2021-04-28 15:42:18 Hail: INFO: Coerced sorted dataset\n"
     ]
    },
    {
     "data": {
      "text/html": [
       "\n",
       "\n",
       "\n",
       "\n",
       "\n",
       "\n",
       "  <div class=\"bk-root\" id=\"3dc507a2-e29a-484c-aa00-ef2d32c0e96a\" data-root-id=\"1734\"></div>\n"
      ]
     },
     "metadata": {},
     "output_type": "display_data"
    },
    {
     "data": {
      "application/javascript": [
       "(function(root) {\n",
       "  function embed_document(root) {\n",
       "    \n",
       "  var docs_json = {\"48dae1c4-2141-4a5b-b710-6233e09ff4cd\":{\"roots\":{\"references\":[{\"attributes\":{\"background_fill_color\":{\"value\":\"#EEEEEE\"},\"below\":[{\"id\":\"1744\",\"type\":\"LinearAxis\"}],\"center\":[{\"id\":\"1748\",\"type\":\"Grid\"},{\"id\":\"1753\",\"type\":\"Grid\"},{\"id\":\"1778\",\"type\":\"Legend\"}],\"left\":[{\"id\":\"1749\",\"type\":\"LinearAxis\"}],\"renderers\":[{\"id\":\"1770\",\"type\":\"GlyphRenderer\"}],\"title\":null,\"toolbar\":{\"id\":\"1760\",\"type\":\"Toolbar\"},\"x_range\":{\"id\":\"1736\",\"type\":\"Range1d\"},\"x_scale\":{\"id\":\"1740\",\"type\":\"LinearScale\"},\"y_range\":{\"id\":\"1738\",\"type\":\"DataRange1d\"},\"y_scale\":{\"id\":\"1742\",\"type\":\"LinearScale\"}},\"id\":\"1734\",\"subtype\":\"Figure\",\"type\":\"Plot\"},{\"attributes\":{},\"id\":\"1745\",\"type\":\"BasicTicker\"},{\"attributes\":{},\"id\":\"1757\",\"type\":\"SaveTool\"},{\"attributes\":{\"axis_label\":\"Frequency\",\"formatter\":{\"id\":\"1776\",\"type\":\"BasicTickFormatter\"},\"ticker\":{\"id\":\"1750\",\"type\":\"BasicTicker\"}},\"id\":\"1749\",\"type\":\"LinearAxis\"},{\"attributes\":{},\"id\":\"1758\",\"type\":\"ResetTool\"},{\"attributes\":{},\"id\":\"1750\",\"type\":\"BasicTicker\"},{\"attributes\":{},\"id\":\"1834\",\"type\":\"Selection\"},{\"attributes\":{},\"id\":\"1755\",\"type\":\"WheelZoomTool\"},{\"attributes\":{},\"id\":\"1774\",\"type\":\"BasicTickFormatter\"},{\"attributes\":{\"source\":{\"id\":\"1767\",\"type\":\"ColumnDataSource\"}},\"id\":\"1771\",\"type\":\"CDSView\"},{\"attributes\":{\"callback\":null,\"end\":2.816145296782585,\"start\":0.34816104378055235},\"id\":\"1736\",\"type\":\"Range1d\"},{\"attributes\":{},\"id\":\"1742\",\"type\":\"LinearScale\"},{\"attributes\":{\"active_drag\":\"auto\",\"active_inspect\":\"auto\",\"active_multi\":null,\"active_scroll\":\"auto\",\"active_tap\":\"auto\",\"tools\":[{\"id\":\"1754\",\"type\":\"PanTool\"},{\"id\":\"1755\",\"type\":\"WheelZoomTool\"},{\"id\":\"1756\",\"type\":\"BoxZoomTool\"},{\"id\":\"1757\",\"type\":\"SaveTool\"},{\"id\":\"1758\",\"type\":\"ResetTool\"},{\"id\":\"1759\",\"type\":\"HelpTool\"}]},\"id\":\"1760\",\"type\":\"Toolbar\"},{\"attributes\":{},\"id\":\"1776\",\"type\":\"BasicTickFormatter\"},{\"attributes\":{\"callback\":null,\"data\":{\"left\":[0.4603421461897356,0.505214587153409,0.5500870281170822,0.5949594690807556,0.6398319100444289,0.6847043510081022,0.7295767919717755,0.7744492329354489,0.8193216738991221,0.8641941148627954,0.9090665558264688,0.9539389967901422,0.9988114377538153,1.0436838787174887,1.088556319681162,1.1334287606448354,1.1783012016085086,1.223173642572182,1.2680460835358554,1.3129185244995285,1.3577909654632019,1.4026634064268753,1.4475358473905486,1.492408288354222,1.5372807293178952,1.5821531702815685,1.627025611245242,1.671898052208915,1.7167704931725885,1.7616429341362618,1.8065153750999352,1.8513878160636084,1.8962602570272817,1.9411326979909551,1.9860051389546283,2.0308775799183016,2.075750020881975,2.1206224618456484,2.1654949028093213,2.2103673437729947,2.255239784736668,2.3001122257003415,2.344984666664015,2.389857107627688,2.4347295485913616,2.479601989555035,2.5244744305187083,2.5693468714823813,2.6142193124460547,2.659091753409728],\"right\":[0.505214587153409,0.5500870281170822,0.5949594690807556,0.6398319100444289,0.6847043510081022,0.7295767919717755,0.7744492329354489,0.8193216738991221,0.8641941148627954,0.9090665558264688,0.9539389967901422,0.9988114377538153,1.0436838787174887,1.088556319681162,1.1334287606448354,1.1783012016085086,1.223173642572182,1.2680460835358554,1.3129185244995285,1.3577909654632019,1.4026634064268753,1.4475358473905486,1.492408288354222,1.5372807293178952,1.5821531702815685,1.627025611245242,1.671898052208915,1.7167704931725885,1.7616429341362618,1.8065153750999352,1.8513878160636084,1.8962602570272817,1.9411326979909551,1.9860051389546283,2.0308775799183016,2.075750020881975,2.1206224618456484,2.1654949028093213,2.2103673437729947,2.255239784736668,2.3001122257003415,2.344984666664015,2.389857107627688,2.4347295485913616,2.479601989555035,2.5244744305187083,2.5693468714823813,2.6142193124460547,2.659091753409728,2.7039641943734014],\"top\":[5,6,5,5,17,24,22,14,19,8,12,10,2,9,2,3,0,1,0,0,3,2,1,2,1,0,4,1,1,1,1,0,0,1,3,1,1,1,0,0,0,0,1,1,0,0,0,0,0,2]},\"selected\":{\"id\":\"1834\",\"type\":\"Selection\"},\"selection_policy\":{\"id\":\"1835\",\"type\":\"UnionRenderers\"}},\"id\":\"1767\",\"type\":\"ColumnDataSource\"},{\"attributes\":{},\"id\":\"1835\",\"type\":\"UnionRenderers\"},{\"attributes\":{\"bottom_units\":\"screen\",\"fill_alpha\":{\"value\":0.5},\"fill_color\":{\"value\":\"lightgrey\"},\"left_units\":\"screen\",\"level\":\"overlay\",\"line_alpha\":{\"value\":1.0},\"line_color\":{\"value\":\"black\"},\"line_dash\":[4,4],\"line_width\":{\"value\":2},\"render_mode\":\"css\",\"right_units\":\"screen\",\"top_units\":\"screen\"},\"id\":\"1777\",\"type\":\"BoxAnnotation\"},{\"attributes\":{},\"id\":\"1740\",\"type\":\"LinearScale\"},{\"attributes\":{\"ticker\":{\"id\":\"1745\",\"type\":\"BasicTicker\"}},\"id\":\"1748\",\"type\":\"Grid\"},{\"attributes\":{\"formatter\":{\"id\":\"1774\",\"type\":\"BasicTickFormatter\"},\"ticker\":{\"id\":\"1745\",\"type\":\"BasicTicker\"}},\"id\":\"1744\",\"type\":\"LinearAxis\"},{\"attributes\":{\"bottom\":{\"value\":0},\"fill_color\":{\"value\":\"#1f77b4\"},\"left\":{\"field\":\"left\"},\"right\":{\"field\":\"right\"},\"top\":{\"field\":\"top\"}},\"id\":\"1768\",\"type\":\"Quad\"},{\"attributes\":{\"bottom\":{\"value\":0},\"fill_alpha\":{\"value\":0.1},\"fill_color\":{\"value\":\"#1f77b4\"},\"left\":{\"field\":\"left\"},\"line_alpha\":{\"value\":0.1},\"line_color\":{\"value\":\"#1f77b4\"},\"right\":{\"field\":\"right\"},\"top\":{\"field\":\"top\"}},\"id\":\"1769\",\"type\":\"Quad\"},{\"attributes\":{\"dimension\":1,\"ticker\":{\"id\":\"1750\",\"type\":\"BasicTicker\"}},\"id\":\"1753\",\"type\":\"Grid\"},{\"attributes\":{\"data_source\":{\"id\":\"1767\",\"type\":\"ColumnDataSource\"},\"glyph\":{\"id\":\"1768\",\"type\":\"Quad\"},\"hover_glyph\":null,\"muted_glyph\":null,\"nonselection_glyph\":{\"id\":\"1769\",\"type\":\"Quad\"},\"selection_glyph\":null,\"view\":{\"id\":\"1771\",\"type\":\"CDSView\"}},\"id\":\"1770\",\"type\":\"GlyphRenderer\"},{\"attributes\":{\"items\":[{\"id\":\"1779\",\"type\":\"LegendItem\"}]},\"id\":\"1778\",\"type\":\"Legend\"},{\"attributes\":{\"callback\":null},\"id\":\"1738\",\"type\":\"DataRange1d\"},{\"attributes\":{},\"id\":\"1754\",\"type\":\"PanTool\"},{\"attributes\":{\"label\":{\"value\":\"\"},\"renderers\":[{\"id\":\"1770\",\"type\":\"GlyphRenderer\"}]},\"id\":\"1779\",\"type\":\"LegendItem\"},{\"attributes\":{},\"id\":\"1759\",\"type\":\"HelpTool\"},{\"attributes\":{\"overlay\":{\"id\":\"1777\",\"type\":\"BoxAnnotation\"}},\"id\":\"1756\",\"type\":\"BoxZoomTool\"}],\"root_ids\":[\"1734\"]},\"title\":\"Bokeh Application\",\"version\":\"1.4.0\"}};\n",
       "  var render_items = [{\"docid\":\"48dae1c4-2141-4a5b-b710-6233e09ff4cd\",\"roots\":{\"1734\":\"3dc507a2-e29a-484c-aa00-ef2d32c0e96a\"}}];\n",
       "  root.Bokeh.embed.embed_items_notebook(docs_json, render_items);\n",
       "\n",
       "  }\n",
       "  if (root.Bokeh !== undefined) {\n",
       "    embed_document(root);\n",
       "  } else {\n",
       "    var attempts = 0;\n",
       "    var timer = setInterval(function(root) {\n",
       "      if (root.Bokeh !== undefined) {\n",
       "        clearInterval(timer);\n",
       "        embed_document(root);\n",
       "      } else {\n",
       "        attempts++;\n",
       "        if (attempts > 100) {\n",
       "          clearInterval(timer);\n",
       "          console.log(\"Bokeh: ERROR: Unable to run BokehJS code because BokehJS library is missing\");\n",
       "        }\n",
       "      }\n",
       "    }, 10, root)\n",
       "  }\n",
       "})(window);"
      ],
      "application/vnd.bokehjs_exec.v0+json": ""
     },
     "metadata": {
      "application/vnd.bokehjs_exec.v0+json": {
       "id": "1734"
      }
     },
     "output_type": "display_data"
    }
   ],
   "source": [
    "p = hl.plot.histogram(mt_flt.sample_qc.r_het_hom_var)\n",
    "show(p)"
   ]
  },
  {
   "cell_type": "code",
   "execution_count": 19,
   "id": "great-blowing",
   "metadata": {},
   "outputs": [
    {
     "name": "stderr",
     "output_type": "stream",
     "text": [
      "2021-04-28 15:42:21 Hail: INFO: Coerced sorted dataset\n",
      "2021-04-28 15:42:26 Hail: INFO: Coerced sorted dataset\n",
      "2021-04-28 15:42:28 Hail: INFO: Coerced sorted dataset\n",
      "2021-04-28 15:42:33 Hail: INFO: Coerced sorted dataset\n"
     ]
    },
    {
     "data": {
      "text/html": [
       "\n",
       "\n",
       "\n",
       "\n",
       "\n",
       "\n",
       "  <div class=\"bk-root\" id=\"63acc999-ded4-4a28-a64a-90c1fad5a82e\" data-root-id=\"1884\"></div>\n"
      ]
     },
     "metadata": {},
     "output_type": "display_data"
    },
    {
     "data": {
      "application/javascript": [
       "(function(root) {\n",
       "  function embed_document(root) {\n",
       "    \n",
       "  var docs_json = {\"8d5bbae0-b479-4b40-87b8-82c95d592efa\":{\"roots\":{\"references\":[{\"attributes\":{\"background_fill_color\":{\"value\":\"#EEEEEE\"},\"below\":[{\"id\":\"1894\",\"type\":\"LinearAxis\"}],\"center\":[{\"id\":\"1898\",\"type\":\"Grid\"},{\"id\":\"1903\",\"type\":\"Grid\"},{\"id\":\"1928\",\"type\":\"Legend\"}],\"left\":[{\"id\":\"1899\",\"type\":\"LinearAxis\"}],\"renderers\":[{\"id\":\"1920\",\"type\":\"GlyphRenderer\"}],\"title\":null,\"toolbar\":{\"id\":\"1910\",\"type\":\"Toolbar\"},\"x_range\":{\"id\":\"1886\",\"type\":\"Range1d\"},\"x_scale\":{\"id\":\"1890\",\"type\":\"LinearScale\"},\"y_range\":{\"id\":\"1888\",\"type\":\"DataRange1d\"},\"y_scale\":{\"id\":\"1892\",\"type\":\"LinearScale\"}},\"id\":\"1884\",\"subtype\":\"Figure\",\"type\":\"Plot\"},{\"attributes\":{\"callback\":null},\"id\":\"1888\",\"type\":\"DataRange1d\"},{\"attributes\":{\"label\":{\"value\":\"\"},\"renderers\":[{\"id\":\"1920\",\"type\":\"GlyphRenderer\"}]},\"id\":\"1929\",\"type\":\"LegendItem\"},{\"attributes\":{\"callback\":null,\"end\":0.9387147482520763,\"start\":0.7044272910703393},\"id\":\"1886\",\"type\":\"Range1d\"},{\"attributes\":{},\"id\":\"1926\",\"type\":\"BasicTickFormatter\"},{\"attributes\":{\"bottom_units\":\"screen\",\"fill_alpha\":{\"value\":0.5},\"fill_color\":{\"value\":\"lightgrey\"},\"left_units\":\"screen\",\"level\":\"overlay\",\"line_alpha\":{\"value\":1.0},\"line_color\":{\"value\":\"black\"},\"line_dash\":[4,4],\"line_width\":{\"value\":2},\"render_mode\":\"css\",\"right_units\":\"screen\",\"top_units\":\"screen\"},\"id\":\"1927\",\"type\":\"BoxAnnotation\"},{\"attributes\":{},\"id\":\"1900\",\"type\":\"BasicTicker\"},{\"attributes\":{},\"id\":\"1905\",\"type\":\"WheelZoomTool\"},{\"attributes\":{},\"id\":\"1924\",\"type\":\"BasicTickFormatter\"},{\"attributes\":{\"bottom\":{\"value\":0},\"fill_alpha\":{\"value\":0.1},\"fill_color\":{\"value\":\"#1f77b4\"},\"left\":{\"field\":\"left\"},\"line_alpha\":{\"value\":0.1},\"line_color\":{\"value\":\"#1f77b4\"},\"right\":{\"field\":\"right\"},\"top\":{\"field\":\"top\"}},\"id\":\"1919\",\"type\":\"Quad\"},{\"attributes\":{},\"id\":\"1992\",\"type\":\"Selection\"},{\"attributes\":{\"ticker\":{\"id\":\"1895\",\"type\":\"BasicTicker\"}},\"id\":\"1898\",\"type\":\"Grid\"},{\"attributes\":{\"overlay\":{\"id\":\"1927\",\"type\":\"BoxAnnotation\"}},\"id\":\"1906\",\"type\":\"BoxZoomTool\"},{\"attributes\":{},\"id\":\"1909\",\"type\":\"HelpTool\"},{\"attributes\":{\"data_source\":{\"id\":\"1917\",\"type\":\"ColumnDataSource\"},\"glyph\":{\"id\":\"1918\",\"type\":\"Quad\"},\"hover_glyph\":null,\"muted_glyph\":null,\"nonselection_glyph\":{\"id\":\"1919\",\"type\":\"Quad\"},\"selection_glyph\":null,\"view\":{\"id\":\"1921\",\"type\":\"CDSView\"}},\"id\":\"1920\",\"type\":\"GlyphRenderer\"},{\"attributes\":{},\"id\":\"1908\",\"type\":\"ResetTool\"},{\"attributes\":{},\"id\":\"1904\",\"type\":\"PanTool\"},{\"attributes\":{},\"id\":\"1907\",\"type\":\"SaveTool\"},{\"attributes\":{\"bottom\":{\"value\":0},\"fill_color\":{\"value\":\"#1f77b4\"},\"left\":{\"field\":\"left\"},\"right\":{\"field\":\"right\"},\"top\":{\"field\":\"top\"}},\"id\":\"1918\",\"type\":\"Quad\"},{\"attributes\":{\"axis_label\":\"Frequency\",\"formatter\":{\"id\":\"1926\",\"type\":\"BasicTickFormatter\"},\"ticker\":{\"id\":\"1900\",\"type\":\"BasicTicker\"}},\"id\":\"1899\",\"type\":\"LinearAxis\"},{\"attributes\":{},\"id\":\"1892\",\"type\":\"LinearScale\"},{\"attributes\":{},\"id\":\"1895\",\"type\":\"BasicTicker\"},{\"attributes\":{\"formatter\":{\"id\":\"1924\",\"type\":\"BasicTickFormatter\"},\"ticker\":{\"id\":\"1895\",\"type\":\"BasicTicker\"}},\"id\":\"1894\",\"type\":\"LinearAxis\"},{\"attributes\":{\"source\":{\"id\":\"1917\",\"type\":\"ColumnDataSource\"}},\"id\":\"1921\",\"type\":\"CDSView\"},{\"attributes\":{\"callback\":null,\"data\":{\"left\":[0.7150767209422364,0.7193364928909952,0.7235962648397541,0.727856036788513,0.7321158087372718,0.7363755806860307,0.7406353526347895,0.7448951245835485,0.7491548965323073,0.7534146684810661,0.757674440429825,0.7619342123785838,0.7661939843273426,0.7704537562761016,0.7747135282248604,0.7789733001736192,0.7832330721223781,0.787492844071137,0.7917526160198958,0.7960123879686547,0.8002721599174135,0.8045319318661723,0.8087917038149313,0.8130514757636901,0.817311247712449,0.8215710196612078,0.8258307916099666,0.8300905635587256,0.8343503355074844,0.8386101074562432,0.8428698794050021,0.847129651353761,0.8513894233025199,0.8556491952512787,0.8599089672000375,0.8641687391487964,0.8684285110975553,0.8726882830463141,0.876948054995073,0.8812078269438318,0.8854675988925906,0.8897273708413496,0.8939871427901084,0.8982469147388672,0.9025066866876261,0.9067664586363849,0.9110262305851438,0.9152860025339027,0.9195457744826615,0.9238055464314203],\"right\":[0.7193364928909952,0.7235962648397541,0.727856036788513,0.7321158087372718,0.7363755806860307,0.7406353526347895,0.7448951245835485,0.7491548965323073,0.7534146684810661,0.757674440429825,0.7619342123785838,0.7661939843273426,0.7704537562761016,0.7747135282248604,0.7789733001736192,0.7832330721223781,0.787492844071137,0.7917526160198958,0.7960123879686547,0.8002721599174135,0.8045319318661723,0.8087917038149313,0.8130514757636901,0.817311247712449,0.8215710196612078,0.8258307916099666,0.8300905635587256,0.8343503355074844,0.8386101074562432,0.8428698794050021,0.847129651353761,0.8513894233025199,0.8556491952512787,0.8599089672000375,0.8641687391487964,0.8684285110975553,0.8726882830463141,0.876948054995073,0.8812078269438318,0.8854675988925906,0.8897273708413496,0.8939871427901084,0.8982469147388672,0.9025066866876261,0.9067664586363849,0.9110262305851438,0.9152860025339027,0.9195457744826615,0.9238055464314203,0.9280653183801792],\"top\":[1,0,0,0,0,1,0,1,0,0,2,0,1,3,0,0,0,3,2,2,2,1,6,2,5,8,8,3,12,14,5,11,18,11,8,8,6,6,3,3,7,3,4,6,4,4,2,4,0,2]},\"selected\":{\"id\":\"1992\",\"type\":\"Selection\"},\"selection_policy\":{\"id\":\"1993\",\"type\":\"UnionRenderers\"}},\"id\":\"1917\",\"type\":\"ColumnDataSource\"},{\"attributes\":{\"active_drag\":\"auto\",\"active_inspect\":\"auto\",\"active_multi\":null,\"active_scroll\":\"auto\",\"active_tap\":\"auto\",\"tools\":[{\"id\":\"1904\",\"type\":\"PanTool\"},{\"id\":\"1905\",\"type\":\"WheelZoomTool\"},{\"id\":\"1906\",\"type\":\"BoxZoomTool\"},{\"id\":\"1907\",\"type\":\"SaveTool\"},{\"id\":\"1908\",\"type\":\"ResetTool\"},{\"id\":\"1909\",\"type\":\"HelpTool\"}]},\"id\":\"1910\",\"type\":\"Toolbar\"},{\"attributes\":{},\"id\":\"1890\",\"type\":\"LinearScale\"},{\"attributes\":{\"items\":[{\"id\":\"1929\",\"type\":\"LegendItem\"}]},\"id\":\"1928\",\"type\":\"Legend\"},{\"attributes\":{},\"id\":\"1993\",\"type\":\"UnionRenderers\"},{\"attributes\":{\"dimension\":1,\"ticker\":{\"id\":\"1900\",\"type\":\"BasicTicker\"}},\"id\":\"1903\",\"type\":\"Grid\"}],\"root_ids\":[\"1884\"]},\"title\":\"Bokeh Application\",\"version\":\"1.4.0\"}};\n",
       "  var render_items = [{\"docid\":\"8d5bbae0-b479-4b40-87b8-82c95d592efa\",\"roots\":{\"1884\":\"63acc999-ded4-4a28-a64a-90c1fad5a82e\"}}];\n",
       "  root.Bokeh.embed.embed_items_notebook(docs_json, render_items);\n",
       "\n",
       "  }\n",
       "  if (root.Bokeh !== undefined) {\n",
       "    embed_document(root);\n",
       "  } else {\n",
       "    var attempts = 0;\n",
       "    var timer = setInterval(function(root) {\n",
       "      if (root.Bokeh !== undefined) {\n",
       "        clearInterval(timer);\n",
       "        embed_document(root);\n",
       "      } else {\n",
       "        attempts++;\n",
       "        if (attempts > 100) {\n",
       "          clearInterval(timer);\n",
       "          console.log(\"Bokeh: ERROR: Unable to run BokehJS code because BokehJS library is missing\");\n",
       "        }\n",
       "      }\n",
       "    }, 10, root)\n",
       "  }\n",
       "})(window);"
      ],
      "application/vnd.bokehjs_exec.v0+json": ""
     },
     "metadata": {
      "application/vnd.bokehjs_exec.v0+json": {
       "id": "1884"
      }
     },
     "output_type": "display_data"
    }
   ],
   "source": [
    "p = hl.plot.histogram(mt_flt.sample_qc.call_rate)\n",
    "show(p)"
   ]
  },
  {
   "cell_type": "code",
   "execution_count": 20,
   "id": "thorough-guard",
   "metadata": {
    "scrolled": false
   },
   "outputs": [
    {
     "name": "stderr",
     "output_type": "stream",
     "text": [
      "2021-04-28 15:42:36 Hail: INFO: Coerced sorted dataset\n",
      "2021-04-28 15:42:41 Hail: INFO: Coerced sorted dataset\n"
     ]
    },
    {
     "data": {
      "text/plain": [
       "(13108, 166)"
      ]
     },
     "execution_count": 20,
     "metadata": {},
     "output_type": "execute_result"
    }
   ],
   "source": [
    "mt_flt = mt_flt.filter_cols(mt_flt.sample_qc.call_rate > 0.8)\n",
    "mt_flt = mt_flt.filter_cols(mt_flt.sample_qc.r_het_hom_var < 2)\n",
    "mt_flt.count()"
   ]
  },
  {
   "cell_type": "code",
   "execution_count": 21,
   "id": "furnished-eclipse",
   "metadata": {},
   "outputs": [],
   "source": [
    "mt_flt = hl.variant_qc(mt_flt)"
   ]
  },
  {
   "cell_type": "code",
   "execution_count": 22,
   "id": "promotional-colorado",
   "metadata": {},
   "outputs": [],
   "source": [
    "mt_flt = mt_flt.filter_rows(hl.min(mt_flt.variant_qc.AF) > 0)"
   ]
  },
  {
   "cell_type": "code",
   "execution_count": 23,
   "id": "opposed-reflection",
   "metadata": {},
   "outputs": [
    {
     "name": "stderr",
     "output_type": "stream",
     "text": [
      "2021-04-28 15:42:48 Hail: INFO: Coerced sorted dataset\n",
      "2021-04-28 15:42:53 Hail: INFO: Coerced sorted dataset\n"
     ]
    },
    {
     "data": {
      "text/plain": [
       "(12602, 166)"
      ]
     },
     "execution_count": 23,
     "metadata": {},
     "output_type": "execute_result"
    }
   ],
   "source": [
    "mt_flt.count()"
   ]
  },
  {
   "cell_type": "code",
   "execution_count": 29,
   "id": "suited-siemens",
   "metadata": {},
   "outputs": [
    {
     "name": "stderr",
     "output_type": "stream",
     "text": [
      "2021-04-28 16:26:16 Hail: WARN: export_vcf: ignored the following fields:\n",
      "    'sample_qc' (column)\n",
      "    'variant_qc' (row)\n",
      "2021-04-28 16:26:18 Hail: INFO: Coerced sorted dataset\n",
      "2021-04-28 16:26:20 Hail: INFO: Coerced sorted dataset\n",
      "2021-04-28 16:26:28 Hail: INFO: merging 1 files totalling 67.3M...\n",
      "2021-04-28 16:26:29 Hail: INFO: while writing:\n",
      "    /media/array/guar_proj/production_callset/GUAR_2of3_noAF_noQD_filter.vcf\n",
      "  merge time: 174.440ms\n"
     ]
    }
   ],
   "source": [
    "hl.export_vcf(mt_flt, '/media/array/guar_proj/production_callset/GUAR_2of3_noAF_noQD_filter.vcf')"
   ]
  },
  {
   "cell_type": "code",
   "execution_count": 24,
   "id": "amino-emerald",
   "metadata": {},
   "outputs": [
    {
     "name": "stderr",
     "output_type": "stream",
     "text": [
      "2021-04-28 15:43:02 Hail: INFO: Coerced sorted dataset\n",
      "2021-04-28 15:43:07 Hail: INFO: Coerced sorted dataset\n"
     ]
    },
    {
     "data": {
      "text/plain": [
       "(5760, 166)"
      ]
     },
     "execution_count": 24,
     "metadata": {},
     "output_type": "execute_result"
    }
   ],
   "source": [
    "mt_common = mt_flt.filter_rows(hl.min(mt_flt.variant_qc.AF) > 0.05)\n",
    "mt_common.count()"
   ]
  },
  {
   "cell_type": "code",
   "execution_count": 25,
   "id": "earned-rebound",
   "metadata": {},
   "outputs": [
    {
     "name": "stderr",
     "output_type": "stream",
     "text": [
      "2021-04-28 15:43:14 Hail: INFO: Coerced sorted dataset\n",
      "2021-04-28 15:43:18 Hail: INFO: Coerced sorted dataset\n",
      "2021-04-28 15:43:24 Hail: INFO: Coerced sorted dataset\n",
      "2021-04-28 15:43:29 Hail: INFO: Coerced sorted dataset\n"
     ]
    },
    {
     "data": {
      "text/html": [
       "\n",
       "\n",
       "\n",
       "\n",
       "\n",
       "\n",
       "  <div class=\"bk-root\" id=\"bab873ee-baf0-46bb-a729-8f02e5ee7a82\" data-root-id=\"2042\"></div>\n"
      ]
     },
     "metadata": {},
     "output_type": "display_data"
    },
    {
     "data": {
      "application/javascript": [
       "(function(root) {\n",
       "  function embed_document(root) {\n",
       "    \n",
       "  var docs_json = {\"bf4ed0fd-6867-40db-a44e-6bc9b956c429\":{\"roots\":{\"references\":[{\"attributes\":{\"background_fill_color\":{\"value\":\"#EEEEEE\"},\"below\":[{\"id\":\"2052\",\"type\":\"LinearAxis\"}],\"center\":[{\"id\":\"2056\",\"type\":\"Grid\"},{\"id\":\"2061\",\"type\":\"Grid\"},{\"id\":\"2086\",\"type\":\"Legend\"}],\"left\":[{\"id\":\"2057\",\"type\":\"LinearAxis\"}],\"renderers\":[{\"id\":\"2078\",\"type\":\"GlyphRenderer\"}],\"title\":null,\"toolbar\":{\"id\":\"2068\",\"type\":\"Toolbar\"},\"x_range\":{\"id\":\"2044\",\"type\":\"Range1d\"},\"x_scale\":{\"id\":\"2048\",\"type\":\"LinearScale\"},\"y_range\":{\"id\":\"2046\",\"type\":\"DataRange1d\"},\"y_scale\":{\"id\":\"2050\",\"type\":\"LinearScale\"}},\"id\":\"2042\",\"subtype\":\"Figure\",\"type\":\"Plot\"},{\"attributes\":{\"formatter\":{\"id\":\"2082\",\"type\":\"BasicTickFormatter\"},\"ticker\":{\"id\":\"2053\",\"type\":\"BasicTicker\"}},\"id\":\"2052\",\"type\":\"LinearAxis\"},{\"attributes\":{\"callback\":null,\"data\":{\"left\":[13.482517482517483,15.177324964192435,16.872132445867386,18.56693992754234,20.26174740921729,21.956554890892242,23.651362372567192,25.346169854242145,27.0409773359171,28.735784817592048,30.430592299267,32.12539978094195,33.820207262616904,35.515014744291854,37.2098222259668,38.90462970764176,40.59943718931671,42.29424467099166,43.989052152666616,45.68385963434156,47.378667116016516,49.07347459769147,50.768282079366415,52.46308956104137,54.15789704271633,55.85270452439127,57.54751200606623,59.242319487741185,60.93712696941613,62.631934451091084,64.32674193276603,66.02154941444098,67.71635689611594,69.41116437779088,71.10597185946584,72.8007793411408,74.49558682281574,76.1903943044907,77.88520178616564,79.5800092678406,81.27481674951555,82.9696242311905,84.66443171286545,86.35923919454041,88.05404667621535,89.7488541578903,91.44366163956525,93.1384691212402,94.83327660291516,96.5280840845901],\"right\":[15.177324964192435,16.872132445867386,18.56693992754234,20.26174740921729,21.956554890892242,23.651362372567192,25.346169854242145,27.0409773359171,28.735784817592048,30.430592299267,32.12539978094195,33.820207262616904,35.515014744291854,37.2098222259668,38.90462970764176,40.59943718931671,42.29424467099166,43.989052152666616,45.68385963434156,47.378667116016516,49.07347459769147,50.768282079366415,52.46308956104137,54.15789704271633,55.85270452439127,57.54751200606623,59.242319487741185,60.93712696941613,62.631934451091084,64.32674193276603,66.02154941444098,67.71635689611594,69.41116437779088,71.10597185946584,72.8007793411408,74.49558682281574,76.1903943044907,77.88520178616564,79.5800092678406,81.27481674951555,82.9696242311905,84.66443171286545,86.35923919454041,88.05404667621535,89.7488541578903,91.44366163956525,93.1384691212402,94.83327660291516,96.5280840845901,98.22289156626506],\"top\":[71,311,377,381,403,394,347,330,314,267,253,240,218,189,172,162,121,128,100,103,85,81,79,71,57,69,43,52,36,29,34,19,17,29,17,25,21,16,9,14,12,12,11,10,4,12,2,5,3,5]},\"selected\":{\"id\":\"2158\",\"type\":\"Selection\"},\"selection_policy\":{\"id\":\"2159\",\"type\":\"UnionRenderers\"}},\"id\":\"2075\",\"type\":\"ColumnDataSource\"},{\"attributes\":{\"callback\":null},\"id\":\"2046\",\"type\":\"DataRange1d\"},{\"attributes\":{},\"id\":\"2050\",\"type\":\"LinearScale\"},{\"attributes\":{\"data_source\":{\"id\":\"2075\",\"type\":\"ColumnDataSource\"},\"glyph\":{\"id\":\"2076\",\"type\":\"Quad\"},\"hover_glyph\":null,\"muted_glyph\":null,\"nonselection_glyph\":{\"id\":\"2077\",\"type\":\"Quad\"},\"selection_glyph\":null,\"view\":{\"id\":\"2079\",\"type\":\"CDSView\"}},\"id\":\"2078\",\"type\":\"GlyphRenderer\"},{\"attributes\":{},\"id\":\"2058\",\"type\":\"BasicTicker\"},{\"attributes\":{\"active_drag\":\"auto\",\"active_inspect\":\"auto\",\"active_multi\":null,\"active_scroll\":\"auto\",\"active_tap\":\"auto\",\"tools\":[{\"id\":\"2062\",\"type\":\"PanTool\"},{\"id\":\"2063\",\"type\":\"WheelZoomTool\"},{\"id\":\"2064\",\"type\":\"BoxZoomTool\"},{\"id\":\"2065\",\"type\":\"SaveTool\"},{\"id\":\"2066\",\"type\":\"ResetTool\"},{\"id\":\"2067\",\"type\":\"HelpTool\"}]},\"id\":\"2068\",\"type\":\"Toolbar\"},{\"attributes\":{},\"id\":\"2048\",\"type\":\"LinearScale\"},{\"attributes\":{},\"id\":\"2065\",\"type\":\"SaveTool\"},{\"attributes\":{\"dimension\":1,\"ticker\":{\"id\":\"2058\",\"type\":\"BasicTicker\"}},\"id\":\"2061\",\"type\":\"Grid\"},{\"attributes\":{},\"id\":\"2062\",\"type\":\"PanTool\"},{\"attributes\":{},\"id\":\"2063\",\"type\":\"WheelZoomTool\"},{\"attributes\":{\"callback\":null,\"end\":102.45991027045244,\"start\":9.245498778330104},\"id\":\"2044\",\"type\":\"Range1d\"},{\"attributes\":{\"overlay\":{\"id\":\"2085\",\"type\":\"BoxAnnotation\"}},\"id\":\"2064\",\"type\":\"BoxZoomTool\"},{\"attributes\":{\"bottom\":{\"value\":0},\"fill_alpha\":{\"value\":0.1},\"fill_color\":{\"value\":\"#1f77b4\"},\"left\":{\"field\":\"left\"},\"line_alpha\":{\"value\":0.1},\"line_color\":{\"value\":\"#1f77b4\"},\"right\":{\"field\":\"right\"},\"top\":{\"field\":\"top\"}},\"id\":\"2077\",\"type\":\"Quad\"},{\"attributes\":{\"axis_label\":\"Frequency\",\"formatter\":{\"id\":\"2084\",\"type\":\"BasicTickFormatter\"},\"ticker\":{\"id\":\"2058\",\"type\":\"BasicTicker\"}},\"id\":\"2057\",\"type\":\"LinearAxis\"},{\"attributes\":{},\"id\":\"2084\",\"type\":\"BasicTickFormatter\"},{\"attributes\":{},\"id\":\"2067\",\"type\":\"HelpTool\"},{\"attributes\":{\"ticker\":{\"id\":\"2053\",\"type\":\"BasicTicker\"}},\"id\":\"2056\",\"type\":\"Grid\"},{\"attributes\":{},\"id\":\"2066\",\"type\":\"ResetTool\"},{\"attributes\":{},\"id\":\"2082\",\"type\":\"BasicTickFormatter\"},{\"attributes\":{},\"id\":\"2053\",\"type\":\"BasicTicker\"},{\"attributes\":{\"source\":{\"id\":\"2075\",\"type\":\"ColumnDataSource\"}},\"id\":\"2079\",\"type\":\"CDSView\"},{\"attributes\":{\"bottom_units\":\"screen\",\"fill_alpha\":{\"value\":0.5},\"fill_color\":{\"value\":\"lightgrey\"},\"left_units\":\"screen\",\"level\":\"overlay\",\"line_alpha\":{\"value\":1.0},\"line_color\":{\"value\":\"black\"},\"line_dash\":[4,4],\"line_width\":{\"value\":2},\"render_mode\":\"css\",\"right_units\":\"screen\",\"top_units\":\"screen\"},\"id\":\"2085\",\"type\":\"BoxAnnotation\"},{\"attributes\":{},\"id\":\"2158\",\"type\":\"Selection\"},{\"attributes\":{},\"id\":\"2159\",\"type\":\"UnionRenderers\"},{\"attributes\":{\"items\":[{\"id\":\"2087\",\"type\":\"LegendItem\"}]},\"id\":\"2086\",\"type\":\"Legend\"},{\"attributes\":{\"label\":{\"value\":\"\"},\"renderers\":[{\"id\":\"2078\",\"type\":\"GlyphRenderer\"}]},\"id\":\"2087\",\"type\":\"LegendItem\"},{\"attributes\":{\"bottom\":{\"value\":0},\"fill_color\":{\"value\":\"#1f77b4\"},\"left\":{\"field\":\"left\"},\"right\":{\"field\":\"right\"},\"top\":{\"field\":\"top\"}},\"id\":\"2076\",\"type\":\"Quad\"}],\"root_ids\":[\"2042\"]},\"title\":\"Bokeh Application\",\"version\":\"1.4.0\"}};\n",
       "  var render_items = [{\"docid\":\"bf4ed0fd-6867-40db-a44e-6bc9b956c429\",\"roots\":{\"2042\":\"bab873ee-baf0-46bb-a729-8f02e5ee7a82\"}}];\n",
       "  root.Bokeh.embed.embed_items_notebook(docs_json, render_items);\n",
       "\n",
       "  }\n",
       "  if (root.Bokeh !== undefined) {\n",
       "    embed_document(root);\n",
       "  } else {\n",
       "    var attempts = 0;\n",
       "    var timer = setInterval(function(root) {\n",
       "      if (root.Bokeh !== undefined) {\n",
       "        clearInterval(timer);\n",
       "        embed_document(root);\n",
       "      } else {\n",
       "        attempts++;\n",
       "        if (attempts > 100) {\n",
       "          clearInterval(timer);\n",
       "          console.log(\"Bokeh: ERROR: Unable to run BokehJS code because BokehJS library is missing\");\n",
       "        }\n",
       "      }\n",
       "    }, 10, root)\n",
       "  }\n",
       "})(window);"
      ],
      "application/vnd.bokehjs_exec.v0+json": ""
     },
     "metadata": {
      "application/vnd.bokehjs_exec.v0+json": {
       "id": "2042"
      }
     },
     "output_type": "display_data"
    }
   ],
   "source": [
    "p = hl.plot.histogram(mt_common.variant_qc.gq_stats.mean)\n",
    "show(p)"
   ]
  },
  {
   "cell_type": "code",
   "execution_count": 26,
   "id": "quantitative-nickel",
   "metadata": {},
   "outputs": [
    {
     "name": "stderr",
     "output_type": "stream",
     "text": [
      "2021-04-28 15:43:46 Hail: INFO: Coerced sorted dataset\n",
      "2021-04-28 15:43:51 Hail: INFO: Coerced sorted dataset\n",
      "2021-04-28 15:44:01 Hail: INFO: Coerced sorted dataset\n",
      "2021-04-28 15:44:06 Hail: INFO: Coerced sorted dataset\n"
     ]
    },
    {
     "data": {
      "text/html": [
       "\n",
       "\n",
       "\n",
       "\n",
       "\n",
       "\n",
       "  <div class=\"bk-root\" id=\"8585a55c-ea35-4395-b29b-7b271b5d11d5\" data-root-id=\"2208\"></div>\n"
      ]
     },
     "metadata": {},
     "output_type": "display_data"
    },
    {
     "data": {
      "application/javascript": [
       "(function(root) {\n",
       "  function embed_document(root) {\n",
       "    \n",
       "  var docs_json = {\"b4d5158d-0c44-4fe2-866f-289e5f076ab9\":{\"roots\":{\"references\":[{\"attributes\":{\"background_fill_color\":{\"value\":\"#EEEEEE\"},\"below\":[{\"id\":\"2218\",\"type\":\"LinearAxis\"}],\"center\":[{\"id\":\"2222\",\"type\":\"Grid\"},{\"id\":\"2227\",\"type\":\"Grid\"},{\"id\":\"2252\",\"type\":\"Legend\"}],\"left\":[{\"id\":\"2223\",\"type\":\"LinearAxis\"}],\"renderers\":[{\"id\":\"2244\",\"type\":\"GlyphRenderer\"}],\"title\":null,\"toolbar\":{\"id\":\"2234\",\"type\":\"Toolbar\"},\"x_range\":{\"id\":\"2210\",\"type\":\"Range1d\"},\"x_scale\":{\"id\":\"2214\",\"type\":\"LinearScale\"},\"y_range\":{\"id\":\"2212\",\"type\":\"DataRange1d\"},\"y_scale\":{\"id\":\"2216\",\"type\":\"LinearScale\"}},\"id\":\"2208\",\"subtype\":\"Figure\",\"type\":\"Plot\"},{\"attributes\":{},\"id\":\"2229\",\"type\":\"WheelZoomTool\"},{\"attributes\":{\"overlay\":{\"id\":\"2251\",\"type\":\"BoxAnnotation\"}},\"id\":\"2230\",\"type\":\"BoxZoomTool\"},{\"attributes\":{\"data_source\":{\"id\":\"2241\",\"type\":\"ColumnDataSource\"},\"glyph\":{\"id\":\"2242\",\"type\":\"Quad\"},\"hover_glyph\":null,\"muted_glyph\":null,\"nonselection_glyph\":{\"id\":\"2243\",\"type\":\"Quad\"},\"selection_glyph\":null,\"view\":{\"id\":\"2245\",\"type\":\"CDSView\"}},\"id\":\"2244\",\"type\":\"GlyphRenderer\"},{\"attributes\":{\"dimension\":1,\"ticker\":{\"id\":\"2224\",\"type\":\"BasicTicker\"}},\"id\":\"2227\",\"type\":\"Grid\"},{\"attributes\":{\"callback\":null,\"data\":{\"left\":[0.41,1.233,2.056,2.8790000000000004,3.7020000000000004,4.525,5.348000000000001,6.171,6.994000000000001,7.817000000000001,8.64,9.463000000000001,10.286000000000001,11.109000000000002,11.932,12.755,13.578000000000001,14.401000000000002,15.224000000000002,16.047,16.87,17.693,18.516000000000002,19.339000000000002,20.162000000000003,20.985000000000003,21.808000000000003,22.631,23.454,24.277,25.1,25.923000000000002,26.746000000000002,27.569000000000003,28.392000000000003,29.215000000000003,30.038000000000004,30.861000000000004,31.684,32.507,33.33,34.153,34.976,35.799,36.622,37.445,38.268,39.091,39.914,40.737],\"right\":[1.233,2.056,2.8790000000000004,3.7020000000000004,4.525,5.348000000000001,6.171,6.994000000000001,7.817000000000001,8.64,9.463000000000001,10.286000000000001,11.109000000000002,11.932,12.755,13.578000000000001,14.401000000000002,15.224000000000002,16.047,16.87,17.693,18.516000000000002,19.339000000000002,20.162000000000003,20.985000000000003,21.808000000000003,22.631,23.454,24.277,25.1,25.923000000000002,26.746000000000002,27.569000000000003,28.392000000000003,29.215000000000003,30.038000000000004,30.861000000000004,31.684,32.507,33.33,34.153,34.976,35.799,36.622,37.445,38.268,39.091,39.914,40.737,41.56],\"top\":[24,32,12,16,17,19,15,11,13,21,16,16,20,15,16,19,19,29,32,42,35,36,34,30,54,59,66,82,123,147,181,205,299,347,374,432,473,491,468,483,396,416,64,30,19,7,3,1,0,1]},\"selected\":{\"id\":\"2332\",\"type\":\"Selection\"},\"selection_policy\":{\"id\":\"2333\",\"type\":\"UnionRenderers\"}},\"id\":\"2241\",\"type\":\"ColumnDataSource\"},{\"attributes\":{\"active_drag\":\"auto\",\"active_inspect\":\"auto\",\"active_multi\":null,\"active_scroll\":\"auto\",\"active_tap\":\"auto\",\"tools\":[{\"id\":\"2228\",\"type\":\"PanTool\"},{\"id\":\"2229\",\"type\":\"WheelZoomTool\"},{\"id\":\"2230\",\"type\":\"BoxZoomTool\"},{\"id\":\"2231\",\"type\":\"SaveTool\"},{\"id\":\"2232\",\"type\":\"ResetTool\"},{\"id\":\"2233\",\"type\":\"HelpTool\"}]},\"id\":\"2234\",\"type\":\"Toolbar\"},{\"attributes\":{},\"id\":\"2332\",\"type\":\"Selection\"},{\"attributes\":{\"bottom_units\":\"screen\",\"fill_alpha\":{\"value\":0.5},\"fill_color\":{\"value\":\"lightgrey\"},\"left_units\":\"screen\",\"level\":\"overlay\",\"line_alpha\":{\"value\":1.0},\"line_color\":{\"value\":\"black\"},\"line_dash\":[4,4],\"line_width\":{\"value\":2},\"render_mode\":\"css\",\"right_units\":\"screen\",\"top_units\":\"screen\"},\"id\":\"2251\",\"type\":\"BoxAnnotation\"},{\"attributes\":{\"ticker\":{\"id\":\"2219\",\"type\":\"BasicTicker\"}},\"id\":\"2222\",\"type\":\"Grid\"},{\"attributes\":{},\"id\":\"2228\",\"type\":\"PanTool\"},{\"attributes\":{},\"id\":\"2232\",\"type\":\"ResetTool\"},{\"attributes\":{},\"id\":\"2333\",\"type\":\"UnionRenderers\"},{\"attributes\":{\"label\":{\"value\":\"\"},\"renderers\":[{\"id\":\"2244\",\"type\":\"GlyphRenderer\"}]},\"id\":\"2253\",\"type\":\"LegendItem\"},{\"attributes\":{\"callback\":null,\"end\":43.6175,\"start\":-1.6475000000000006},\"id\":\"2210\",\"type\":\"Range1d\"},{\"attributes\":{\"formatter\":{\"id\":\"2248\",\"type\":\"BasicTickFormatter\"},\"ticker\":{\"id\":\"2219\",\"type\":\"BasicTicker\"}},\"id\":\"2218\",\"type\":\"LinearAxis\"},{\"attributes\":{},\"id\":\"2248\",\"type\":\"BasicTickFormatter\"},{\"attributes\":{},\"id\":\"2233\",\"type\":\"HelpTool\"},{\"attributes\":{\"callback\":null},\"id\":\"2212\",\"type\":\"DataRange1d\"},{\"attributes\":{},\"id\":\"2231\",\"type\":\"SaveTool\"},{\"attributes\":{},\"id\":\"2216\",\"type\":\"LinearScale\"},{\"attributes\":{\"items\":[{\"id\":\"2253\",\"type\":\"LegendItem\"}]},\"id\":\"2252\",\"type\":\"Legend\"},{\"attributes\":{\"axis_label\":\"Frequency\",\"formatter\":{\"id\":\"2250\",\"type\":\"BasicTickFormatter\"},\"ticker\":{\"id\":\"2224\",\"type\":\"BasicTicker\"}},\"id\":\"2223\",\"type\":\"LinearAxis\"},{\"attributes\":{\"bottom\":{\"value\":0},\"fill_color\":{\"value\":\"#1f77b4\"},\"left\":{\"field\":\"left\"},\"right\":{\"field\":\"right\"},\"top\":{\"field\":\"top\"}},\"id\":\"2242\",\"type\":\"Quad\"},{\"attributes\":{},\"id\":\"2250\",\"type\":\"BasicTickFormatter\"},{\"attributes\":{\"source\":{\"id\":\"2241\",\"type\":\"ColumnDataSource\"}},\"id\":\"2245\",\"type\":\"CDSView\"},{\"attributes\":{},\"id\":\"2214\",\"type\":\"LinearScale\"},{\"attributes\":{\"bottom\":{\"value\":0},\"fill_alpha\":{\"value\":0.1},\"fill_color\":{\"value\":\"#1f77b4\"},\"left\":{\"field\":\"left\"},\"line_alpha\":{\"value\":0.1},\"line_color\":{\"value\":\"#1f77b4\"},\"right\":{\"field\":\"right\"},\"top\":{\"field\":\"top\"}},\"id\":\"2243\",\"type\":\"Quad\"},{\"attributes\":{},\"id\":\"2224\",\"type\":\"BasicTicker\"},{\"attributes\":{},\"id\":\"2219\",\"type\":\"BasicTicker\"}],\"root_ids\":[\"2208\"]},\"title\":\"Bokeh Application\",\"version\":\"1.4.0\"}};\n",
       "  var render_items = [{\"docid\":\"b4d5158d-0c44-4fe2-866f-289e5f076ab9\",\"roots\":{\"2208\":\"8585a55c-ea35-4395-b29b-7b271b5d11d5\"}}];\n",
       "  root.Bokeh.embed.embed_items_notebook(docs_json, render_items);\n",
       "\n",
       "  }\n",
       "  if (root.Bokeh !== undefined) {\n",
       "    embed_document(root);\n",
       "  } else {\n",
       "    var attempts = 0;\n",
       "    var timer = setInterval(function(root) {\n",
       "      if (root.Bokeh !== undefined) {\n",
       "        clearInterval(timer);\n",
       "        embed_document(root);\n",
       "      } else {\n",
       "        attempts++;\n",
       "        if (attempts > 100) {\n",
       "          clearInterval(timer);\n",
       "          console.log(\"Bokeh: ERROR: Unable to run BokehJS code because BokehJS library is missing\");\n",
       "        }\n",
       "      }\n",
       "    }, 10, root)\n",
       "  }\n",
       "})(window);"
      ],
      "application/vnd.bokehjs_exec.v0+json": ""
     },
     "metadata": {
      "application/vnd.bokehjs_exec.v0+json": {
       "id": "2208"
      }
     },
     "output_type": "display_data"
    }
   ],
   "source": [
    "p = hl.plot.histogram(mt_common.info.QD)\n",
    "show(p)"
   ]
  },
  {
   "cell_type": "code",
   "execution_count": 27,
   "id": "center-english",
   "metadata": {},
   "outputs": [
    {
     "name": "stderr",
     "output_type": "stream",
     "text": [
      "2021-04-28 15:45:24 Hail: INFO: Coerced sorted dataset\n",
      "2021-04-28 15:45:31 Hail: INFO: Coerced sorted dataset\n"
     ]
    },
    {
     "data": {
      "text/plain": [
       "(5234, 166)"
      ]
     },
     "execution_count": 27,
     "metadata": {},
     "output_type": "execute_result"
    }
   ],
   "source": [
    "mt_common = mt_common.filter_rows(mt_common.info.QD > 20)\n",
    "mt_common.count()"
   ]
  },
  {
   "cell_type": "code",
   "execution_count": 28,
   "id": "congressional-sweet",
   "metadata": {},
   "outputs": [
    {
     "name": "stderr",
     "output_type": "stream",
     "text": [
      "2021-04-28 15:46:00 Hail: WARN: export_vcf: ignored the following fields:\n",
      "    'sample_qc' (column)\n",
      "    'variant_qc' (row)\n",
      "2021-04-28 15:46:03 Hail: INFO: Coerced sorted dataset\n",
      "2021-04-28 15:46:08 Hail: INFO: Coerced sorted dataset\n",
      "2021-04-28 15:46:28 Hail: INFO: merging 1 files totalling 27.5M...\n",
      "2021-04-28 15:46:29 Hail: INFO: while writing:\n",
      "    /media/array/guar_proj/production_callset/GUAR_2of3_AF5pct.vcf\n",
      "  merge time: 378.127ms\n"
     ]
    }
   ],
   "source": [
    "hl.export_vcf(mt_common, '/media/array/guar_proj/production_callset/GUAR_2of3_AF5pct.vcf')"
   ]
  },
  {
   "cell_type": "code",
   "execution_count": 38,
   "id": "utility-mother",
   "metadata": {},
   "outputs": [
    {
     "name": "stderr",
     "output_type": "stream",
     "text": [
      "2021-04-13 18:39:35 Hail: INFO: Coerced sorted dataset\n",
      "2021-04-13 18:39:36 Hail: INFO: Coerced sorted dataset\n"
     ]
    }
   ],
   "source": [
    "pd_df = mt_common.rows().to_pandas()"
   ]
  },
  {
   "cell_type": "code",
   "execution_count": 40,
   "id": "exotic-request",
   "metadata": {},
   "outputs": [],
   "source": [
    "pd_df.to_csv('GUAR_2of3_AF5pct_quality.tsv', sep='\\t')"
   ]
  },
  {
   "cell_type": "code",
   "execution_count": null,
   "id": "southwest-sussex",
   "metadata": {},
   "outputs": [],
   "source": []
  }
 ],
 "metadata": {
  "kernelspec": {
   "display_name": "Python 3",
   "language": "python",
   "name": "python3"
  },
  "language_info": {
   "codemirror_mode": {
    "name": "ipython",
    "version": 3
   },
   "file_extension": ".py",
   "mimetype": "text/x-python",
   "name": "python",
   "nbconvert_exporter": "python",
   "pygments_lexer": "ipython3",
   "version": "3.6.13"
  }
 },
 "nbformat": 4,
 "nbformat_minor": 5
}
